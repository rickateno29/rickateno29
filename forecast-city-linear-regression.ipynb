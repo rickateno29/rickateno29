{
 "cells": [
  {
   "cell_type": "code",
   "execution_count": 1,
   "id": "8d84f7c1",
   "metadata": {
    "execution": {
     "iopub.execute_input": "2022-09-10T11:31:08.833181Z",
     "iopub.status.busy": "2022-09-10T11:31:08.832376Z",
     "iopub.status.idle": "2022-09-10T11:31:10.021991Z",
     "shell.execute_reply": "2022-09-10T11:31:10.020667Z"
    },
    "papermill": {
     "duration": 1.202526,
     "end_time": "2022-09-10T11:31:10.024974",
     "exception": false,
     "start_time": "2022-09-10T11:31:08.822448",
     "status": "completed"
    },
    "tags": []
   },
   "outputs": [
    {
     "data": {
      "text/html": [
       "<div>\n",
       "<style scoped>\n",
       "    .dataframe tbody tr th:only-of-type {\n",
       "        vertical-align: middle;\n",
       "    }\n",
       "\n",
       "    .dataframe tbody tr th {\n",
       "        vertical-align: top;\n",
       "    }\n",
       "\n",
       "    .dataframe thead th {\n",
       "        text-align: right;\n",
       "    }\n",
       "</style>\n",
       "<table border=\"1\" class=\"dataframe\">\n",
       "  <thead>\n",
       "    <tr style=\"text-align: right;\">\n",
       "      <th></th>\n",
       "      <th>No. Pesanan</th>\n",
       "      <th>Status Pesanan</th>\n",
       "      <th>Status Pembatalan/ Pengembalian</th>\n",
       "      <th>No. Resi</th>\n",
       "      <th>Opsi Pengiriman</th>\n",
       "      <th>Antar ke counter/ pick-up</th>\n",
       "      <th>Pesanan Harus Dikirimkan Sebelum (Menghindari keterlambatan)</th>\n",
       "      <th>Waktu Pengiriman Diatur</th>\n",
       "      <th>Waktu Pesanan Dibuat</th>\n",
       "      <th>Waktu Pembayaran Dilakukan</th>\n",
       "      <th>...</th>\n",
       "      <th>Paket Diskon (Diskon dari Penjual)</th>\n",
       "      <th>Potongan Koin Shopee</th>\n",
       "      <th>Diskon Kartu Kredit</th>\n",
       "      <th>Ongkos Kirim Dibayar oleh Pembeli</th>\n",
       "      <th>Total Pembayaran</th>\n",
       "      <th>Perkiraan Ongkos Kirim</th>\n",
       "      <th>Catatan dari Pembeli</th>\n",
       "      <th>Catatan</th>\n",
       "      <th>city</th>\n",
       "      <th>user_id</th>\n",
       "    </tr>\n",
       "  </thead>\n",
       "  <tbody>\n",
       "    <tr>\n",
       "      <th>0</th>\n",
       "      <td>2104058FJ8QS3F</td>\n",
       "      <td>Selesai</td>\n",
       "      <td>NaN</td>\n",
       "      <td>2517234415</td>\n",
       "      <td>Reguler\\nSiCepat REG</td>\n",
       "      <td>Pickup</td>\n",
       "      <td>08/04/2021</td>\n",
       "      <td>05 April 2021</td>\n",
       "      <td>05 April 2021</td>\n",
       "      <td>05/04/2021 10:13</td>\n",
       "      <td>...</td>\n",
       "      <td>0</td>\n",
       "      <td>0</td>\n",
       "      <td>0</td>\n",
       "      <td>0</td>\n",
       "      <td>274500</td>\n",
       "      <td>7500</td>\n",
       "      <td>NaN</td>\n",
       "      <td>NaN</td>\n",
       "      <td>Jakarta Selatan</td>\n",
       "      <td>259</td>\n",
       "    </tr>\n",
       "    <tr>\n",
       "      <th>1</th>\n",
       "      <td>2104020SJUJJ1V</td>\n",
       "      <td>Selesai</td>\n",
       "      <td>NaN</td>\n",
       "      <td>2515685013</td>\n",
       "      <td>Reguler\\nSiCepat REG</td>\n",
       "      <td>Pickup</td>\n",
       "      <td>06/04/2021</td>\n",
       "      <td>03 April 2021</td>\n",
       "      <td>02 April 2021</td>\n",
       "      <td>02/04/2021 08:51</td>\n",
       "      <td>...</td>\n",
       "      <td>10000</td>\n",
       "      <td>836</td>\n",
       "      <td>0</td>\n",
       "      <td>0</td>\n",
       "      <td>401082</td>\n",
       "      <td>17000</td>\n",
       "      <td>NaN</td>\n",
       "      <td>NaN</td>\n",
       "      <td>Palembang</td>\n",
       "      <td>198</td>\n",
       "    </tr>\n",
       "    <tr>\n",
       "      <th>2</th>\n",
       "      <td>2104020SJUJJ1V</td>\n",
       "      <td>Selesai</td>\n",
       "      <td>NaN</td>\n",
       "      <td>2515685013</td>\n",
       "      <td>Reguler\\nSiCepat REG</td>\n",
       "      <td>Pickup</td>\n",
       "      <td>06/04/2021</td>\n",
       "      <td>03 April 2021</td>\n",
       "      <td>02 April 2021</td>\n",
       "      <td>02/04/2021 08:51</td>\n",
       "      <td>...</td>\n",
       "      <td>10000</td>\n",
       "      <td>836</td>\n",
       "      <td>0</td>\n",
       "      <td>0</td>\n",
       "      <td>401082</td>\n",
       "      <td>17000</td>\n",
       "      <td>NaN</td>\n",
       "      <td>NaN</td>\n",
       "      <td>Palembang</td>\n",
       "      <td>198</td>\n",
       "    </tr>\n",
       "    <tr>\n",
       "      <th>3</th>\n",
       "      <td>210406BVK7FH0R</td>\n",
       "      <td>Selesai</td>\n",
       "      <td>NaN</td>\n",
       "      <td>IN-2-0IUPCRH3H1JP2YC6BXZ3</td>\n",
       "      <td>Instant\\nGrabExpress Instant</td>\n",
       "      <td>Pickup</td>\n",
       "      <td>08/04/2021</td>\n",
       "      <td>07 April 2021</td>\n",
       "      <td>06 April 2021</td>\n",
       "      <td>06/04/2021 18:44</td>\n",
       "      <td>...</td>\n",
       "      <td>10000</td>\n",
       "      <td>0</td>\n",
       "      <td>0</td>\n",
       "      <td>11000</td>\n",
       "      <td>530250</td>\n",
       "      <td>11000</td>\n",
       "      <td>NaN</td>\n",
       "      <td>NaN</td>\n",
       "      <td>Surabaya</td>\n",
       "      <td>209</td>\n",
       "    </tr>\n",
       "    <tr>\n",
       "      <th>4</th>\n",
       "      <td>210406BVK7FH0R</td>\n",
       "      <td>Selesai</td>\n",
       "      <td>NaN</td>\n",
       "      <td>IN-2-0IUPCRH3H1JP2YC6BXZ3</td>\n",
       "      <td>Instant\\nGrabExpress Instant</td>\n",
       "      <td>Pickup</td>\n",
       "      <td>08/04/2021</td>\n",
       "      <td>07 April 2021</td>\n",
       "      <td>06 April 2021</td>\n",
       "      <td>06/04/2021 18:44</td>\n",
       "      <td>...</td>\n",
       "      <td>10000</td>\n",
       "      <td>0</td>\n",
       "      <td>0</td>\n",
       "      <td>11000</td>\n",
       "      <td>530250</td>\n",
       "      <td>11000</td>\n",
       "      <td>NaN</td>\n",
       "      <td>NaN</td>\n",
       "      <td>Surabaya</td>\n",
       "      <td>209</td>\n",
       "    </tr>\n",
       "  </tbody>\n",
       "</table>\n",
       "<p>5 rows × 39 columns</p>\n",
       "</div>"
      ],
      "text/plain": [
       "      No. Pesanan Status Pesanan  Status Pembatalan/ Pengembalian  \\\n",
       "0  2104058FJ8QS3F        Selesai                              NaN   \n",
       "1  2104020SJUJJ1V        Selesai                              NaN   \n",
       "2  2104020SJUJJ1V        Selesai                              NaN   \n",
       "3  210406BVK7FH0R        Selesai                              NaN   \n",
       "4  210406BVK7FH0R        Selesai                              NaN   \n",
       "\n",
       "                    No. Resi               Opsi Pengiriman  \\\n",
       "0                 2517234415          Reguler\\nSiCepat REG   \n",
       "1                 2515685013          Reguler\\nSiCepat REG   \n",
       "2                 2515685013          Reguler\\nSiCepat REG   \n",
       "3  IN-2-0IUPCRH3H1JP2YC6BXZ3  Instant\\nGrabExpress Instant   \n",
       "4  IN-2-0IUPCRH3H1JP2YC6BXZ3  Instant\\nGrabExpress Instant   \n",
       "\n",
       "  Antar ke counter/ pick-up  \\\n",
       "0                    Pickup   \n",
       "1                    Pickup   \n",
       "2                    Pickup   \n",
       "3                    Pickup   \n",
       "4                    Pickup   \n",
       "\n",
       "  Pesanan Harus Dikirimkan Sebelum (Menghindari keterlambatan)  \\\n",
       "0                                         08/04/2021             \n",
       "1                                         06/04/2021             \n",
       "2                                         06/04/2021             \n",
       "3                                         08/04/2021             \n",
       "4                                         08/04/2021             \n",
       "\n",
       "  Waktu Pengiriman Diatur Waktu Pesanan Dibuat Waktu Pembayaran Dilakukan  \\\n",
       "0           05 April 2021        05 April 2021           05/04/2021 10:13   \n",
       "1           03 April 2021        02 April 2021           02/04/2021 08:51   \n",
       "2           03 April 2021        02 April 2021           02/04/2021 08:51   \n",
       "3           07 April 2021        06 April 2021           06/04/2021 18:44   \n",
       "4           07 April 2021        06 April 2021           06/04/2021 18:44   \n",
       "\n",
       "   ...  Paket Diskon (Diskon dari Penjual) Potongan Koin Shopee  \\\n",
       "0  ...                                   0                    0   \n",
       "1  ...                               10000                  836   \n",
       "2  ...                               10000                  836   \n",
       "3  ...                               10000                    0   \n",
       "4  ...                               10000                    0   \n",
       "\n",
       "  Diskon Kartu Kredit Ongkos Kirim Dibayar oleh Pembeli  Total Pembayaran  \\\n",
       "0                   0                                 0            274500   \n",
       "1                   0                                 0            401082   \n",
       "2                   0                                 0            401082   \n",
       "3                   0                             11000            530250   \n",
       "4                   0                             11000            530250   \n",
       "\n",
       "   Perkiraan Ongkos Kirim  Catatan dari Pembeli  Catatan             city  \\\n",
       "0                    7500                   NaN      NaN  Jakarta Selatan   \n",
       "1                   17000                   NaN      NaN        Palembang   \n",
       "2                   17000                   NaN      NaN        Palembang   \n",
       "3                   11000                   NaN      NaN         Surabaya   \n",
       "4                   11000                   NaN      NaN         Surabaya   \n",
       "\n",
       "   user_id  \n",
       "0      259  \n",
       "1      198  \n",
       "2      198  \n",
       "3      209  \n",
       "4      209  \n",
       "\n",
       "[5 rows x 39 columns]"
      ]
     },
     "execution_count": 1,
     "metadata": {},
     "output_type": "execute_result"
    }
   ],
   "source": [
    "# import library to excute the certain commands other than python functions\n",
    "from learntools.core import binder\n",
    "binder.bind(globals())\n",
    "from pathlib import Path\n",
    "\n",
    "import pandas as pd\n",
    "import numpy as np\n",
    "import matplotlib.pyplot as plt\n",
    "import seaborn as sns\n",
    "\n",
    "\n",
    "# open data from path\n",
    "datadir = Path('../input/shopee-order-april/')  \n",
    "# open data csv\n",
    "shope_order = pd.read_csv(datadir/'Shopee_order_april.csv')\n",
    "shope_order.head()"
   ]
  },
  {
   "cell_type": "code",
   "execution_count": 2,
   "id": "3708bc7d",
   "metadata": {
    "execution": {
     "iopub.execute_input": "2022-09-10T11:31:10.041826Z",
     "iopub.status.busy": "2022-09-10T11:31:10.040725Z",
     "iopub.status.idle": "2022-09-10T11:31:10.125681Z",
     "shell.execute_reply": "2022-09-10T11:31:10.124509Z"
    },
    "papermill": {
     "duration": 0.095735,
     "end_time": "2022-09-10T11:31:10.128145",
     "exception": false,
     "start_time": "2022-09-10T11:31:10.032410",
     "status": "completed"
    },
    "tags": []
   },
   "outputs": [
    {
     "data": {
      "text/html": [
       "<div>\n",
       "<style scoped>\n",
       "    .dataframe tbody tr th:only-of-type {\n",
       "        vertical-align: middle;\n",
       "    }\n",
       "\n",
       "    .dataframe tbody tr th {\n",
       "        vertical-align: top;\n",
       "    }\n",
       "\n",
       "    .dataframe thead th {\n",
       "        text-align: right;\n",
       "    }\n",
       "</style>\n",
       "<table border=\"1\" class=\"dataframe\">\n",
       "  <thead>\n",
       "    <tr style=\"text-align: right;\">\n",
       "      <th></th>\n",
       "      <th>Status Pembatalan/ Pengembalian</th>\n",
       "      <th>SKU Induk</th>\n",
       "      <th>Harga Awal</th>\n",
       "      <th>Harga Setelah Diskon</th>\n",
       "      <th>Jumlah</th>\n",
       "      <th>Total Harga Produk</th>\n",
       "      <th>Total Diskon</th>\n",
       "      <th>Diskon Dari Penjual</th>\n",
       "      <th>Diskon Dari Shopee</th>\n",
       "      <th>Berat Produk</th>\n",
       "      <th>...</th>\n",
       "      <th>Voucher Ditanggung Shopee</th>\n",
       "      <th>Paket Diskon (Diskon dari Shopee)</th>\n",
       "      <th>Paket Diskon (Diskon dari Penjual)</th>\n",
       "      <th>Potongan Koin Shopee</th>\n",
       "      <th>Diskon Kartu Kredit</th>\n",
       "      <th>Ongkos Kirim Dibayar oleh Pembeli</th>\n",
       "      <th>Total Pembayaran</th>\n",
       "      <th>Perkiraan Ongkos Kirim</th>\n",
       "      <th>Catatan</th>\n",
       "      <th>user_id</th>\n",
       "    </tr>\n",
       "  </thead>\n",
       "  <tbody>\n",
       "    <tr>\n",
       "      <th>count</th>\n",
       "      <td>0.0</td>\n",
       "      <td>0.0</td>\n",
       "      <td>32.000000</td>\n",
       "      <td>32.000000</td>\n",
       "      <td>32.0</td>\n",
       "      <td>32.000000</td>\n",
       "      <td>32.000000</td>\n",
       "      <td>32.000000</td>\n",
       "      <td>32.0</td>\n",
       "      <td>32.0</td>\n",
       "      <td>...</td>\n",
       "      <td>32.0</td>\n",
       "      <td>32.0</td>\n",
       "      <td>32.000000</td>\n",
       "      <td>32.000000</td>\n",
       "      <td>32.0</td>\n",
       "      <td>32.000000</td>\n",
       "      <td>32.000000</td>\n",
       "      <td>32.000000</td>\n",
       "      <td>0.0</td>\n",
       "      <td>32.000000</td>\n",
       "    </tr>\n",
       "    <tr>\n",
       "      <th>mean</th>\n",
       "      <td>NaN</td>\n",
       "      <td>NaN</td>\n",
       "      <td>186687.500000</td>\n",
       "      <td>176058.125000</td>\n",
       "      <td>1.0</td>\n",
       "      <td>176058.125000</td>\n",
       "      <td>10628.437500</td>\n",
       "      <td>10628.437500</td>\n",
       "      <td>0.0</td>\n",
       "      <td>300.0</td>\n",
       "      <td>...</td>\n",
       "      <td>0.0</td>\n",
       "      <td>0.0</td>\n",
       "      <td>5625.000000</td>\n",
       "      <td>9988.656250</td>\n",
       "      <td>0.0</td>\n",
       "      <td>2156.250000</td>\n",
       "      <td>339621.250000</td>\n",
       "      <td>11812.500000</td>\n",
       "      <td>NaN</td>\n",
       "      <td>114.843750</td>\n",
       "    </tr>\n",
       "    <tr>\n",
       "      <th>std</th>\n",
       "      <td>NaN</td>\n",
       "      <td>NaN</td>\n",
       "      <td>48925.346357</td>\n",
       "      <td>49696.580675</td>\n",
       "      <td>0.0</td>\n",
       "      <td>49696.580675</td>\n",
       "      <td>11161.806406</td>\n",
       "      <td>11161.806406</td>\n",
       "      <td>0.0</td>\n",
       "      <td>0.0</td>\n",
       "      <td>...</td>\n",
       "      <td>0.0</td>\n",
       "      <td>0.0</td>\n",
       "      <td>5040.161288</td>\n",
       "      <td>15985.160807</td>\n",
       "      <td>0.0</td>\n",
       "      <td>4149.305228</td>\n",
       "      <td>126563.870474</td>\n",
       "      <td>5590.530588</td>\n",
       "      <td>NaN</td>\n",
       "      <td>71.577213</td>\n",
       "    </tr>\n",
       "    <tr>\n",
       "      <th>min</th>\n",
       "      <td>NaN</td>\n",
       "      <td>NaN</td>\n",
       "      <td>134000.000000</td>\n",
       "      <td>113900.000000</td>\n",
       "      <td>1.0</td>\n",
       "      <td>113900.000000</td>\n",
       "      <td>0.000000</td>\n",
       "      <td>0.000000</td>\n",
       "      <td>0.0</td>\n",
       "      <td>300.0</td>\n",
       "      <td>...</td>\n",
       "      <td>0.0</td>\n",
       "      <td>0.0</td>\n",
       "      <td>0.000000</td>\n",
       "      <td>0.000000</td>\n",
       "      <td>0.0</td>\n",
       "      <td>0.000000</td>\n",
       "      <td>103316.000000</td>\n",
       "      <td>3500.000000</td>\n",
       "      <td>NaN</td>\n",
       "      <td>5.000000</td>\n",
       "    </tr>\n",
       "    <tr>\n",
       "      <th>25%</th>\n",
       "      <td>NaN</td>\n",
       "      <td>NaN</td>\n",
       "      <td>141500.000000</td>\n",
       "      <td>132896.000000</td>\n",
       "      <td>1.0</td>\n",
       "      <td>132896.000000</td>\n",
       "      <td>4044.000000</td>\n",
       "      <td>4044.000000</td>\n",
       "      <td>0.0</td>\n",
       "      <td>300.0</td>\n",
       "      <td>...</td>\n",
       "      <td>0.0</td>\n",
       "      <td>0.0</td>\n",
       "      <td>0.000000</td>\n",
       "      <td>0.000000</td>\n",
       "      <td>0.0</td>\n",
       "      <td>0.000000</td>\n",
       "      <td>254500.000000</td>\n",
       "      <td>8625.000000</td>\n",
       "      <td>NaN</td>\n",
       "      <td>63.750000</td>\n",
       "    </tr>\n",
       "    <tr>\n",
       "      <th>50%</th>\n",
       "      <td>NaN</td>\n",
       "      <td>NaN</td>\n",
       "      <td>172000.000000</td>\n",
       "      <td>165454.000000</td>\n",
       "      <td>1.0</td>\n",
       "      <td>165454.000000</td>\n",
       "      <td>5240.000000</td>\n",
       "      <td>5240.000000</td>\n",
       "      <td>0.0</td>\n",
       "      <td>300.0</td>\n",
       "      <td>...</td>\n",
       "      <td>0.0</td>\n",
       "      <td>0.0</td>\n",
       "      <td>10000.000000</td>\n",
       "      <td>553.500000</td>\n",
       "      <td>0.0</td>\n",
       "      <td>0.000000</td>\n",
       "      <td>367169.000000</td>\n",
       "      <td>10000.000000</td>\n",
       "      <td>NaN</td>\n",
       "      <td>81.000000</td>\n",
       "    </tr>\n",
       "    <tr>\n",
       "      <th>75%</th>\n",
       "      <td>NaN</td>\n",
       "      <td>NaN</td>\n",
       "      <td>244500.000000</td>\n",
       "      <td>210534.000000</td>\n",
       "      <td>1.0</td>\n",
       "      <td>210534.000000</td>\n",
       "      <td>20100.000000</td>\n",
       "      <td>20100.000000</td>\n",
       "      <td>0.0</td>\n",
       "      <td>300.0</td>\n",
       "      <td>...</td>\n",
       "      <td>0.0</td>\n",
       "      <td>0.0</td>\n",
       "      <td>10000.000000</td>\n",
       "      <td>15000.000000</td>\n",
       "      <td>0.0</td>\n",
       "      <td>2375.000000</td>\n",
       "      <td>409360.500000</td>\n",
       "      <td>15000.000000</td>\n",
       "      <td>NaN</td>\n",
       "      <td>186.000000</td>\n",
       "    </tr>\n",
       "    <tr>\n",
       "      <th>max</th>\n",
       "      <td>NaN</td>\n",
       "      <td>NaN</td>\n",
       "      <td>279500.000000</td>\n",
       "      <td>274500.000000</td>\n",
       "      <td>1.0</td>\n",
       "      <td>274500.000000</td>\n",
       "      <td>36674.000000</td>\n",
       "      <td>36674.000000</td>\n",
       "      <td>0.0</td>\n",
       "      <td>300.0</td>\n",
       "      <td>...</td>\n",
       "      <td>0.0</td>\n",
       "      <td>0.0</td>\n",
       "      <td>10000.000000</td>\n",
       "      <td>43598.000000</td>\n",
       "      <td>0.0</td>\n",
       "      <td>17000.000000</td>\n",
       "      <td>530250.000000</td>\n",
       "      <td>27000.000000</td>\n",
       "      <td>NaN</td>\n",
       "      <td>259.000000</td>\n",
       "    </tr>\n",
       "  </tbody>\n",
       "</table>\n",
       "<p>8 rows × 24 columns</p>\n",
       "</div>"
      ],
      "text/plain": [
       "       Status Pembatalan/ Pengembalian  SKU Induk     Harga Awal  \\\n",
       "count                              0.0        0.0      32.000000   \n",
       "mean                               NaN        NaN  186687.500000   \n",
       "std                                NaN        NaN   48925.346357   \n",
       "min                                NaN        NaN  134000.000000   \n",
       "25%                                NaN        NaN  141500.000000   \n",
       "50%                                NaN        NaN  172000.000000   \n",
       "75%                                NaN        NaN  244500.000000   \n",
       "max                                NaN        NaN  279500.000000   \n",
       "\n",
       "       Harga Setelah Diskon  Jumlah  Total Harga Produk  Total Diskon  \\\n",
       "count             32.000000    32.0           32.000000     32.000000   \n",
       "mean          176058.125000     1.0       176058.125000  10628.437500   \n",
       "std            49696.580675     0.0        49696.580675  11161.806406   \n",
       "min           113900.000000     1.0       113900.000000      0.000000   \n",
       "25%           132896.000000     1.0       132896.000000   4044.000000   \n",
       "50%           165454.000000     1.0       165454.000000   5240.000000   \n",
       "75%           210534.000000     1.0       210534.000000  20100.000000   \n",
       "max           274500.000000     1.0       274500.000000  36674.000000   \n",
       "\n",
       "       Diskon Dari Penjual  Diskon Dari Shopee  Berat Produk  ...  \\\n",
       "count            32.000000                32.0          32.0  ...   \n",
       "mean          10628.437500                 0.0         300.0  ...   \n",
       "std           11161.806406                 0.0           0.0  ...   \n",
       "min               0.000000                 0.0         300.0  ...   \n",
       "25%            4044.000000                 0.0         300.0  ...   \n",
       "50%            5240.000000                 0.0         300.0  ...   \n",
       "75%           20100.000000                 0.0         300.0  ...   \n",
       "max           36674.000000                 0.0         300.0  ...   \n",
       "\n",
       "       Voucher Ditanggung Shopee  Paket Diskon (Diskon dari Shopee)  \\\n",
       "count                       32.0                               32.0   \n",
       "mean                         0.0                                0.0   \n",
       "std                          0.0                                0.0   \n",
       "min                          0.0                                0.0   \n",
       "25%                          0.0                                0.0   \n",
       "50%                          0.0                                0.0   \n",
       "75%                          0.0                                0.0   \n",
       "max                          0.0                                0.0   \n",
       "\n",
       "       Paket Diskon (Diskon dari Penjual)  Potongan Koin Shopee  \\\n",
       "count                           32.000000             32.000000   \n",
       "mean                          5625.000000           9988.656250   \n",
       "std                           5040.161288          15985.160807   \n",
       "min                              0.000000              0.000000   \n",
       "25%                              0.000000              0.000000   \n",
       "50%                          10000.000000            553.500000   \n",
       "75%                          10000.000000          15000.000000   \n",
       "max                          10000.000000          43598.000000   \n",
       "\n",
       "       Diskon Kartu Kredit  Ongkos Kirim Dibayar oleh Pembeli  \\\n",
       "count                 32.0                          32.000000   \n",
       "mean                   0.0                        2156.250000   \n",
       "std                    0.0                        4149.305228   \n",
       "min                    0.0                           0.000000   \n",
       "25%                    0.0                           0.000000   \n",
       "50%                    0.0                           0.000000   \n",
       "75%                    0.0                        2375.000000   \n",
       "max                    0.0                       17000.000000   \n",
       "\n",
       "       Total Pembayaran  Perkiraan Ongkos Kirim  Catatan     user_id  \n",
       "count         32.000000               32.000000      0.0   32.000000  \n",
       "mean      339621.250000            11812.500000      NaN  114.843750  \n",
       "std       126563.870474             5590.530588      NaN   71.577213  \n",
       "min       103316.000000             3500.000000      NaN    5.000000  \n",
       "25%       254500.000000             8625.000000      NaN   63.750000  \n",
       "50%       367169.000000            10000.000000      NaN   81.000000  \n",
       "75%       409360.500000            15000.000000      NaN  186.000000  \n",
       "max       530250.000000            27000.000000      NaN  259.000000  \n",
       "\n",
       "[8 rows x 24 columns]"
      ]
     },
     "execution_count": 2,
     "metadata": {},
     "output_type": "execute_result"
    }
   ],
   "source": [
    "# calculate descriptive statistics on all numeric data types\n",
    "shope_order.describe()"
   ]
  },
  {
   "cell_type": "code",
   "execution_count": 3,
   "id": "447c5354",
   "metadata": {
    "execution": {
     "iopub.execute_input": "2022-09-10T11:31:10.145148Z",
     "iopub.status.busy": "2022-09-10T11:31:10.144744Z",
     "iopub.status.idle": "2022-09-10T11:31:10.152195Z",
     "shell.execute_reply": "2022-09-10T11:31:10.151007Z"
    },
    "papermill": {
     "duration": 0.018362,
     "end_time": "2022-09-10T11:31:10.154429",
     "exception": false,
     "start_time": "2022-09-10T11:31:10.136067",
     "status": "completed"
    },
    "tags": []
   },
   "outputs": [],
   "source": [
    "# to see the correlated column\n",
    "shope_corr= shope_order.corr()"
   ]
  },
  {
   "cell_type": "code",
   "execution_count": 4,
   "id": "3a980139",
   "metadata": {
    "execution": {
     "iopub.execute_input": "2022-09-10T11:31:10.170773Z",
     "iopub.status.busy": "2022-09-10T11:31:10.170026Z",
     "iopub.status.idle": "2022-09-10T11:31:11.032853Z",
     "shell.execute_reply": "2022-09-10T11:31:11.031630Z"
    },
    "papermill": {
     "duration": 0.874349,
     "end_time": "2022-09-10T11:31:11.036031",
     "exception": false,
     "start_time": "2022-09-10T11:31:10.161682",
     "status": "completed"
    },
    "tags": []
   },
   "outputs": [
    {
     "data": {
      "text/plain": [
       "<AxesSubplot:>"
      ]
     },
     "execution_count": 4,
     "metadata": {},
     "output_type": "execute_result"
    },
    {
     "data": {
      "image/png": "[encoded data removed]",
      "text/plain": [
       "<Figure size 720x576 with 2 Axes>"
      ]
     },
     "metadata": {
      "needs_background": "light"
     },
     "output_type": "display_data"
    }
   ],
   "source": [
    "# correlated data visualization\n",
    "plt.figure(figsize=(10,8))\n",
    "sns.heatmap(shope_corr)"
   ]
  },
  {
   "cell_type": "code",
   "execution_count": 5,
   "id": "42ef5c15",
   "metadata": {
    "execution": {
     "iopub.execute_input": "2022-09-10T11:31:11.057904Z",
     "iopub.status.busy": "2022-09-10T11:31:11.057118Z",
     "iopub.status.idle": "2022-09-10T11:31:11.068883Z",
     "shell.execute_reply": "2022-09-10T11:31:11.068098Z"
    },
    "papermill": {
     "duration": 0.023746,
     "end_time": "2022-09-10T11:31:11.070964",
     "exception": false,
     "start_time": "2022-09-10T11:31:11.047218",
     "status": "completed"
    },
    "tags": []
   },
   "outputs": [
    {
     "data": {
      "text/html": [
       "<div>\n",
       "<style scoped>\n",
       "    .dataframe tbody tr th:only-of-type {\n",
       "        vertical-align: middle;\n",
       "    }\n",
       "\n",
       "    .dataframe tbody tr th {\n",
       "        vertical-align: top;\n",
       "    }\n",
       "\n",
       "    .dataframe thead th {\n",
       "        text-align: right;\n",
       "    }\n",
       "</style>\n",
       "<table border=\"1\" class=\"dataframe\">\n",
       "  <thead>\n",
       "    <tr style=\"text-align: right;\">\n",
       "      <th></th>\n",
       "      <th>Waktu Pesanan Dibuat</th>\n",
       "      <th>city</th>\n",
       "      <th>Jumlah Produk di Pesan</th>\n",
       "    </tr>\n",
       "  </thead>\n",
       "  <tbody>\n",
       "    <tr>\n",
       "      <th>0</th>\n",
       "      <td>05 April 2021</td>\n",
       "      <td>Jakarta Selatan</td>\n",
       "      <td>1</td>\n",
       "    </tr>\n",
       "    <tr>\n",
       "      <th>1</th>\n",
       "      <td>02 April 2021</td>\n",
       "      <td>Palembang</td>\n",
       "      <td>2</td>\n",
       "    </tr>\n",
       "    <tr>\n",
       "      <th>2</th>\n",
       "      <td>02 April 2021</td>\n",
       "      <td>Palembang</td>\n",
       "      <td>2</td>\n",
       "    </tr>\n",
       "    <tr>\n",
       "      <th>3</th>\n",
       "      <td>06 April 2021</td>\n",
       "      <td>Surabaya</td>\n",
       "      <td>2</td>\n",
       "    </tr>\n",
       "    <tr>\n",
       "      <th>4</th>\n",
       "      <td>06 April 2021</td>\n",
       "      <td>Surabaya</td>\n",
       "      <td>2</td>\n",
       "    </tr>\n",
       "  </tbody>\n",
       "</table>\n",
       "</div>"
      ],
      "text/plain": [
       "  Waktu Pesanan Dibuat             city  Jumlah Produk di Pesan\n",
       "0        05 April 2021  Jakarta Selatan                       1\n",
       "1        02 April 2021        Palembang                       2\n",
       "2        02 April 2021        Palembang                       2\n",
       "3        06 April 2021         Surabaya                       2\n",
       "4        06 April 2021         Surabaya                       2"
      ]
     },
     "execution_count": 5,
     "metadata": {},
     "output_type": "execute_result"
    }
   ],
   "source": [
    "# retrieve the column needed for prediction\n",
    "df_city = shope_order.loc[:,['Waktu Pesanan Dibuat', 'city', 'Jumlah Produk di Pesan']]\n",
    "df_city.head()"
   ]
  },
  {
   "cell_type": "code",
   "execution_count": 6,
   "id": "edb6c77b",
   "metadata": {
    "execution": {
     "iopub.execute_input": "2022-09-10T11:31:11.090163Z",
     "iopub.status.busy": "2022-09-10T11:31:11.089767Z",
     "iopub.status.idle": "2022-09-10T11:31:11.097824Z",
     "shell.execute_reply": "2022-09-10T11:31:11.096877Z"
    },
    "papermill": {
     "duration": 0.020043,
     "end_time": "2022-09-10T11:31:11.099860",
     "exception": false,
     "start_time": "2022-09-10T11:31:11.079817",
     "status": "completed"
    },
    "tags": []
   },
   "outputs": [
    {
     "data": {
      "text/plain": [
       "Waktu Pesanan Dibuat      object\n",
       "city                      object\n",
       "Jumlah Produk di Pesan     int64\n",
       "dtype: object"
      ]
     },
     "execution_count": 6,
     "metadata": {},
     "output_type": "execute_result"
    }
   ],
   "source": [
    "# to show the data types from the new dataset (df_city)\n",
    "df_city.dtypes"
   ]
  },
  {
   "cell_type": "code",
   "execution_count": 7,
   "id": "6f0c1986",
   "metadata": {
    "execution": {
     "iopub.execute_input": "2022-09-10T11:31:11.119523Z",
     "iopub.status.busy": "2022-09-10T11:31:11.119066Z",
     "iopub.status.idle": "2022-09-10T11:31:11.139169Z",
     "shell.execute_reply": "2022-09-10T11:31:11.138110Z"
    },
    "papermill": {
     "duration": 0.032544,
     "end_time": "2022-09-10T11:31:11.141339",
     "exception": false,
     "start_time": "2022-09-10T11:31:11.108795",
     "status": "completed"
    },
    "tags": []
   },
   "outputs": [
    {
     "data": {
      "text/html": [
       "<div>\n",
       "<style scoped>\n",
       "    .dataframe tbody tr th:only-of-type {\n",
       "        vertical-align: middle;\n",
       "    }\n",
       "\n",
       "    .dataframe tbody tr th {\n",
       "        vertical-align: top;\n",
       "    }\n",
       "\n",
       "    .dataframe thead th {\n",
       "        text-align: right;\n",
       "    }\n",
       "</style>\n",
       "<table border=\"1\" class=\"dataframe\">\n",
       "  <thead>\n",
       "    <tr style=\"text-align: right;\">\n",
       "      <th></th>\n",
       "      <th>Waktu Pesanan Dibuat</th>\n",
       "      <th>city</th>\n",
       "      <th>Jumlah Produk di Pesan</th>\n",
       "      <th>WP</th>\n",
       "    </tr>\n",
       "  </thead>\n",
       "  <tbody>\n",
       "    <tr>\n",
       "      <th>0</th>\n",
       "      <td>05 April 2021</td>\n",
       "      <td>Jakarta Selatan</td>\n",
       "      <td>1</td>\n",
       "      <td>2021-04-05</td>\n",
       "    </tr>\n",
       "    <tr>\n",
       "      <th>1</th>\n",
       "      <td>02 April 2021</td>\n",
       "      <td>Palembang</td>\n",
       "      <td>2</td>\n",
       "      <td>2021-04-02</td>\n",
       "    </tr>\n",
       "    <tr>\n",
       "      <th>2</th>\n",
       "      <td>02 April 2021</td>\n",
       "      <td>Palembang</td>\n",
       "      <td>2</td>\n",
       "      <td>2021-04-02</td>\n",
       "    </tr>\n",
       "    <tr>\n",
       "      <th>3</th>\n",
       "      <td>06 April 2021</td>\n",
       "      <td>Surabaya</td>\n",
       "      <td>2</td>\n",
       "      <td>2021-04-06</td>\n",
       "    </tr>\n",
       "    <tr>\n",
       "      <th>4</th>\n",
       "      <td>06 April 2021</td>\n",
       "      <td>Surabaya</td>\n",
       "      <td>2</td>\n",
       "      <td>2021-04-06</td>\n",
       "    </tr>\n",
       "  </tbody>\n",
       "</table>\n",
       "</div>"
      ],
      "text/plain": [
       "  Waktu Pesanan Dibuat             city  Jumlah Produk di Pesan         WP\n",
       "0        05 April 2021  Jakarta Selatan                       1 2021-04-05\n",
       "1        02 April 2021        Palembang                       2 2021-04-02\n",
       "2        02 April 2021        Palembang                       2 2021-04-02\n",
       "3        06 April 2021         Surabaya                       2 2021-04-06\n",
       "4        06 April 2021         Surabaya                       2 2021-04-06"
      ]
     },
     "execution_count": 7,
     "metadata": {},
     "output_type": "execute_result"
    }
   ],
   "source": [
    "# change the data type from object to datetime \n",
    "df_city['WP'] = pd.to_datetime(df_city['Waktu Pesanan Dibuat'])\n",
    "df_city.head()"
   ]
  },
  {
   "cell_type": "code",
   "execution_count": 8,
   "id": "e36ad4c0",
   "metadata": {
    "execution": {
     "iopub.execute_input": "2022-09-10T11:31:11.161763Z",
     "iopub.status.busy": "2022-09-10T11:31:11.161341Z",
     "iopub.status.idle": "2022-09-10T11:31:11.174372Z",
     "shell.execute_reply": "2022-09-10T11:31:11.173114Z"
    },
    "papermill": {
     "duration": 0.026332,
     "end_time": "2022-09-10T11:31:11.176785",
     "exception": false,
     "start_time": "2022-09-10T11:31:11.150453",
     "status": "completed"
    },
    "tags": []
   },
   "outputs": [
    {
     "data": {
      "text/html": [
       "<div>\n",
       "<style scoped>\n",
       "    .dataframe tbody tr th:only-of-type {\n",
       "        vertical-align: middle;\n",
       "    }\n",
       "\n",
       "    .dataframe tbody tr th {\n",
       "        vertical-align: top;\n",
       "    }\n",
       "\n",
       "    .dataframe thead th {\n",
       "        text-align: right;\n",
       "    }\n",
       "</style>\n",
       "<table border=\"1\" class=\"dataframe\">\n",
       "  <thead>\n",
       "    <tr style=\"text-align: right;\">\n",
       "      <th></th>\n",
       "      <th>Waktu Pesanan Dibuat</th>\n",
       "      <th>city</th>\n",
       "      <th>Jumlah Produk di Pesan</th>\n",
       "      <th>WP</th>\n",
       "      <th>Time</th>\n",
       "    </tr>\n",
       "  </thead>\n",
       "  <tbody>\n",
       "    <tr>\n",
       "      <th>0</th>\n",
       "      <td>05 April 2021</td>\n",
       "      <td>Jakarta Selatan</td>\n",
       "      <td>1</td>\n",
       "      <td>2021-04-05</td>\n",
       "      <td>0</td>\n",
       "    </tr>\n",
       "    <tr>\n",
       "      <th>1</th>\n",
       "      <td>02 April 2021</td>\n",
       "      <td>Palembang</td>\n",
       "      <td>2</td>\n",
       "      <td>2021-04-02</td>\n",
       "      <td>1</td>\n",
       "    </tr>\n",
       "    <tr>\n",
       "      <th>2</th>\n",
       "      <td>02 April 2021</td>\n",
       "      <td>Palembang</td>\n",
       "      <td>2</td>\n",
       "      <td>2021-04-02</td>\n",
       "      <td>2</td>\n",
       "    </tr>\n",
       "    <tr>\n",
       "      <th>3</th>\n",
       "      <td>06 April 2021</td>\n",
       "      <td>Surabaya</td>\n",
       "      <td>2</td>\n",
       "      <td>2021-04-06</td>\n",
       "      <td>3</td>\n",
       "    </tr>\n",
       "    <tr>\n",
       "      <th>4</th>\n",
       "      <td>06 April 2021</td>\n",
       "      <td>Surabaya</td>\n",
       "      <td>2</td>\n",
       "      <td>2021-04-06</td>\n",
       "      <td>4</td>\n",
       "    </tr>\n",
       "  </tbody>\n",
       "</table>\n",
       "</div>"
      ],
      "text/plain": [
       "  Waktu Pesanan Dibuat             city  Jumlah Produk di Pesan         WP  \\\n",
       "0        05 April 2021  Jakarta Selatan                       1 2021-04-05   \n",
       "1        02 April 2021        Palembang                       2 2021-04-02   \n",
       "2        02 April 2021        Palembang                       2 2021-04-02   \n",
       "3        06 April 2021         Surabaya                       2 2021-04-06   \n",
       "4        06 April 2021         Surabaya                       2 2021-04-06   \n",
       "\n",
       "   Time  \n",
       "0     0  \n",
       "1     1  \n",
       "2     2  \n",
       "3     3  \n",
       "4     4  "
      ]
     },
     "execution_count": 8,
     "metadata": {},
     "output_type": "execute_result"
    }
   ],
   "source": [
    "# to return evenly spaced values within a given interval.\n",
    "df_city['Time'] = np.arange(len(df_city['WP']))\n",
    "df_city.head()"
   ]
  },
  {
   "cell_type": "code",
   "execution_count": 9,
   "id": "fdce5939",
   "metadata": {
    "execution": {
     "iopub.execute_input": "2022-09-10T11:31:11.197856Z",
     "iopub.status.busy": "2022-09-10T11:31:11.196757Z",
     "iopub.status.idle": "2022-09-10T11:31:11.213451Z",
     "shell.execute_reply": "2022-09-10T11:31:11.212261Z"
    },
    "papermill": {
     "duration": 0.029904,
     "end_time": "2022-09-10T11:31:11.216107",
     "exception": false,
     "start_time": "2022-09-10T11:31:11.186203",
     "status": "completed"
    },
    "tags": []
   },
   "outputs": [
    {
     "data": {
      "text/html": [
       "<div>\n",
       "<style scoped>\n",
       "    .dataframe tbody tr th:only-of-type {\n",
       "        vertical-align: middle;\n",
       "    }\n",
       "\n",
       "    .dataframe tbody tr th {\n",
       "        vertical-align: top;\n",
       "    }\n",
       "\n",
       "    .dataframe thead th {\n",
       "        text-align: right;\n",
       "    }\n",
       "</style>\n",
       "<table border=\"1\" class=\"dataframe\">\n",
       "  <thead>\n",
       "    <tr style=\"text-align: right;\">\n",
       "      <th></th>\n",
       "      <th>Waktu Pesanan Dibuat</th>\n",
       "      <th>city</th>\n",
       "      <th>Jumlah Produk di Pesan</th>\n",
       "      <th>WP</th>\n",
       "      <th>Time</th>\n",
       "      <th>Lag_1</th>\n",
       "    </tr>\n",
       "  </thead>\n",
       "  <tbody>\n",
       "    <tr>\n",
       "      <th>0</th>\n",
       "      <td>05 April 2021</td>\n",
       "      <td>Jakarta Selatan</td>\n",
       "      <td>1</td>\n",
       "      <td>2021-04-05</td>\n",
       "      <td>0</td>\n",
       "      <td>NaN</td>\n",
       "    </tr>\n",
       "    <tr>\n",
       "      <th>1</th>\n",
       "      <td>02 April 2021</td>\n",
       "      <td>Palembang</td>\n",
       "      <td>2</td>\n",
       "      <td>2021-04-02</td>\n",
       "      <td>1</td>\n",
       "      <td>1.0</td>\n",
       "    </tr>\n",
       "    <tr>\n",
       "      <th>2</th>\n",
       "      <td>02 April 2021</td>\n",
       "      <td>Palembang</td>\n",
       "      <td>2</td>\n",
       "      <td>2021-04-02</td>\n",
       "      <td>2</td>\n",
       "      <td>2.0</td>\n",
       "    </tr>\n",
       "    <tr>\n",
       "      <th>3</th>\n",
       "      <td>06 April 2021</td>\n",
       "      <td>Surabaya</td>\n",
       "      <td>2</td>\n",
       "      <td>2021-04-06</td>\n",
       "      <td>3</td>\n",
       "      <td>2.0</td>\n",
       "    </tr>\n",
       "    <tr>\n",
       "      <th>4</th>\n",
       "      <td>06 April 2021</td>\n",
       "      <td>Surabaya</td>\n",
       "      <td>2</td>\n",
       "      <td>2021-04-06</td>\n",
       "      <td>4</td>\n",
       "      <td>2.0</td>\n",
       "    </tr>\n",
       "  </tbody>\n",
       "</table>\n",
       "</div>"
      ],
      "text/plain": [
       "  Waktu Pesanan Dibuat             city  Jumlah Produk di Pesan         WP  \\\n",
       "0        05 April 2021  Jakarta Selatan                       1 2021-04-05   \n",
       "1        02 April 2021        Palembang                       2 2021-04-02   \n",
       "2        02 April 2021        Palembang                       2 2021-04-02   \n",
       "3        06 April 2021         Surabaya                       2 2021-04-06   \n",
       "4        06 April 2021         Surabaya                       2 2021-04-06   \n",
       "\n",
       "   Time  Lag_1  \n",
       "0     0    NaN  \n",
       "1     1    1.0  \n",
       "2     2    2.0  \n",
       "3     3    2.0  \n",
       "4     4    2.0  "
      ]
     },
     "execution_count": 9,
     "metadata": {},
     "output_type": "execute_result"
    }
   ],
   "source": [
    "# create a new column by duplicating it from another column and decreasing it by 1 row\n",
    "df_city['Lag_1'] = df_city['Jumlah Produk di Pesan'].shift(1)\n",
    "df_city.head()"
   ]
  },
  {
   "cell_type": "code",
   "execution_count": 10,
   "id": "739d619e",
   "metadata": {
    "execution": {
     "iopub.execute_input": "2022-09-10T11:31:11.237636Z",
     "iopub.status.busy": "2022-09-10T11:31:11.237193Z",
     "iopub.status.idle": "2022-09-10T11:31:11.252471Z",
     "shell.execute_reply": "2022-09-10T11:31:11.251338Z"
    },
    "papermill": {
     "duration": 0.028644,
     "end_time": "2022-09-10T11:31:11.254882",
     "exception": false,
     "start_time": "2022-09-10T11:31:11.226238",
     "status": "completed"
    },
    "tags": []
   },
   "outputs": [
    {
     "data": {
      "text/html": [
       "<div>\n",
       "<style scoped>\n",
       "    .dataframe tbody tr th:only-of-type {\n",
       "        vertical-align: middle;\n",
       "    }\n",
       "\n",
       "    .dataframe tbody tr th {\n",
       "        vertical-align: top;\n",
       "    }\n",
       "\n",
       "    .dataframe thead th {\n",
       "        text-align: right;\n",
       "    }\n",
       "</style>\n",
       "<table border=\"1\" class=\"dataframe\">\n",
       "  <thead>\n",
       "    <tr style=\"text-align: right;\">\n",
       "      <th></th>\n",
       "      <th>city</th>\n",
       "      <th>Jumlah Produk di Pesan</th>\n",
       "      <th>WP</th>\n",
       "      <th>Time</th>\n",
       "      <th>Lag_1</th>\n",
       "    </tr>\n",
       "  </thead>\n",
       "  <tbody>\n",
       "    <tr>\n",
       "      <th>0</th>\n",
       "      <td>Jakarta Selatan</td>\n",
       "      <td>1</td>\n",
       "      <td>2021-04-05</td>\n",
       "      <td>0</td>\n",
       "      <td>NaN</td>\n",
       "    </tr>\n",
       "    <tr>\n",
       "      <th>1</th>\n",
       "      <td>Palembang</td>\n",
       "      <td>2</td>\n",
       "      <td>2021-04-02</td>\n",
       "      <td>1</td>\n",
       "      <td>1.0</td>\n",
       "    </tr>\n",
       "    <tr>\n",
       "      <th>2</th>\n",
       "      <td>Palembang</td>\n",
       "      <td>2</td>\n",
       "      <td>2021-04-02</td>\n",
       "      <td>2</td>\n",
       "      <td>2.0</td>\n",
       "    </tr>\n",
       "    <tr>\n",
       "      <th>3</th>\n",
       "      <td>Surabaya</td>\n",
       "      <td>2</td>\n",
       "      <td>2021-04-06</td>\n",
       "      <td>3</td>\n",
       "      <td>2.0</td>\n",
       "    </tr>\n",
       "    <tr>\n",
       "      <th>4</th>\n",
       "      <td>Surabaya</td>\n",
       "      <td>2</td>\n",
       "      <td>2021-04-06</td>\n",
       "      <td>4</td>\n",
       "      <td>2.0</td>\n",
       "    </tr>\n",
       "  </tbody>\n",
       "</table>\n",
       "</div>"
      ],
      "text/plain": [
       "              city  Jumlah Produk di Pesan         WP  Time  Lag_1\n",
       "0  Jakarta Selatan                       1 2021-04-05     0    NaN\n",
       "1        Palembang                       2 2021-04-02     1    1.0\n",
       "2        Palembang                       2 2021-04-02     2    2.0\n",
       "3         Surabaya                       2 2021-04-06     3    2.0\n",
       "4         Surabaya                       2 2021-04-06     4    2.0"
      ]
     },
     "execution_count": 10,
     "metadata": {},
     "output_type": "execute_result"
    }
   ],
   "source": [
    "# delete the column 'Waktu Pesanan Dibuat' and changes with the colum 'WP'\n",
    "df_city = df_city.drop(['Waktu Pesanan Dibuat'], axis=1)\n",
    "df_city.head()"
   ]
  },
  {
   "cell_type": "code",
   "execution_count": 11,
   "id": "30aae877",
   "metadata": {
    "execution": {
     "iopub.execute_input": "2022-09-10T11:31:11.277739Z",
     "iopub.status.busy": "2022-09-10T11:31:11.277255Z",
     "iopub.status.idle": "2022-09-10T11:31:11.294017Z",
     "shell.execute_reply": "2022-09-10T11:31:11.292819Z"
    },
    "papermill": {
     "duration": 0.030743,
     "end_time": "2022-09-10T11:31:11.296357",
     "exception": false,
     "start_time": "2022-09-10T11:31:11.265614",
     "status": "completed"
    },
    "tags": []
   },
   "outputs": [
    {
     "data": {
      "text/html": [
       "<div>\n",
       "<style scoped>\n",
       "    .dataframe tbody tr th:only-of-type {\n",
       "        vertical-align: middle;\n",
       "    }\n",
       "\n",
       "    .dataframe tbody tr th {\n",
       "        vertical-align: top;\n",
       "    }\n",
       "\n",
       "    .dataframe thead th {\n",
       "        text-align: right;\n",
       "    }\n",
       "</style>\n",
       "<table border=\"1\" class=\"dataframe\">\n",
       "  <thead>\n",
       "    <tr style=\"text-align: right;\">\n",
       "      <th></th>\n",
       "      <th></th>\n",
       "      <th>Jumlah Produk di Pesan</th>\n",
       "      <th>Time</th>\n",
       "      <th>Lag_1</th>\n",
       "    </tr>\n",
       "    <tr>\n",
       "      <th>WP</th>\n",
       "      <th>city</th>\n",
       "      <th></th>\n",
       "      <th></th>\n",
       "      <th></th>\n",
       "    </tr>\n",
       "  </thead>\n",
       "  <tbody>\n",
       "    <tr>\n",
       "      <th>2021-04-05</th>\n",
       "      <th>Jakarta Selatan</th>\n",
       "      <td>1</td>\n",
       "      <td>0</td>\n",
       "      <td>NaN</td>\n",
       "    </tr>\n",
       "    <tr>\n",
       "      <th rowspan=\"2\" valign=\"top\">2021-04-02</th>\n",
       "      <th>Palembang</th>\n",
       "      <td>2</td>\n",
       "      <td>1</td>\n",
       "      <td>1.0</td>\n",
       "    </tr>\n",
       "    <tr>\n",
       "      <th>Palembang</th>\n",
       "      <td>2</td>\n",
       "      <td>2</td>\n",
       "      <td>2.0</td>\n",
       "    </tr>\n",
       "    <tr>\n",
       "      <th rowspan=\"2\" valign=\"top\">2021-04-06</th>\n",
       "      <th>Surabaya</th>\n",
       "      <td>2</td>\n",
       "      <td>3</td>\n",
       "      <td>2.0</td>\n",
       "    </tr>\n",
       "    <tr>\n",
       "      <th>Surabaya</th>\n",
       "      <td>2</td>\n",
       "      <td>4</td>\n",
       "      <td>2.0</td>\n",
       "    </tr>\n",
       "  </tbody>\n",
       "</table>\n",
       "</div>"
      ],
      "text/plain": [
       "                            Jumlah Produk di Pesan  Time  Lag_1\n",
       "WP         city                                                \n",
       "2021-04-05 Jakarta Selatan                       1     0    NaN\n",
       "2021-04-02 Palembang                             2     1    1.0\n",
       "           Palembang                             2     2    2.0\n",
       "2021-04-06 Surabaya                              2     3    2.0\n",
       "           Surabaya                              2     4    2.0"
      ]
     },
     "execution_count": 11,
     "metadata": {},
     "output_type": "execute_result"
    }
   ],
   "source": [
    "# set index with the columns (['WP', 'city'])\n",
    "df_city = df_city.set_index(['WP', 'city'])\n",
    "df_city.head()"
   ]
  },
  {
   "cell_type": "code",
   "execution_count": 12,
   "id": "256bb88c",
   "metadata": {
    "execution": {
     "iopub.execute_input": "2022-09-10T11:31:11.318340Z",
     "iopub.status.busy": "2022-09-10T11:31:11.317925Z",
     "iopub.status.idle": "2022-09-10T11:31:11.323531Z",
     "shell.execute_reply": "2022-09-10T11:31:11.322657Z"
    },
    "papermill": {
     "duration": 0.019094,
     "end_time": "2022-09-10T11:31:11.325579",
     "exception": false,
     "start_time": "2022-09-10T11:31:11.306485",
     "status": "completed"
    },
    "tags": []
   },
   "outputs": [],
   "source": [
    "# Change the 'Jumlah Produk di Pesan' to make it shorter\n",
    "df_city = df_city.rename(columns={'Jumlah Produk di Pesan':'JP'})"
   ]
  },
  {
   "cell_type": "code",
   "execution_count": 13,
   "id": "41c7c64c",
   "metadata": {
    "execution": {
     "iopub.execute_input": "2022-09-10T11:31:11.347282Z",
     "iopub.status.busy": "2022-09-10T11:31:11.346845Z",
     "iopub.status.idle": "2022-09-10T11:31:11.360093Z",
     "shell.execute_reply": "2022-09-10T11:31:11.358570Z"
    },
    "papermill": {
     "duration": 0.026818,
     "end_time": "2022-09-10T11:31:11.362468",
     "exception": false,
     "start_time": "2022-09-10T11:31:11.335650",
     "status": "completed"
    },
    "tags": []
   },
   "outputs": [
    {
     "name": "stdout",
     "output_type": "stream",
     "text": [
      "df_city shape: \n",
      " (32, 3)\n",
      "dy_city dtype: \n",
      " JP         int64\n",
      "Time       int64\n",
      "Lag_1    float64\n",
      "dtype: object\n"
     ]
    }
   ],
   "source": [
    "print('df_city shape: \\n', df_city.shape)\n",
    "print('dy_city dtype: \\n', df_city.dtypes)"
   ]
  },
  {
   "cell_type": "code",
   "execution_count": 14,
   "id": "33c10a9d",
   "metadata": {
    "execution": {
     "iopub.execute_input": "2022-09-10T11:31:11.385185Z",
     "iopub.status.busy": "2022-09-10T11:31:11.383969Z",
     "iopub.status.idle": "2022-09-10T11:31:11.630742Z",
     "shell.execute_reply": "2022-09-10T11:31:11.629553Z"
    },
    "papermill": {
     "duration": 0.260561,
     "end_time": "2022-09-10T11:31:11.633222",
     "exception": false,
     "start_time": "2022-09-10T11:31:11.372661",
     "status": "completed"
    },
    "tags": []
   },
   "outputs": [
    {
     "data": {
      "text/plain": [
       "<Figure size 720x432 with 0 Axes>"
      ]
     },
     "metadata": {},
     "output_type": "display_data"
    },
    {
     "data": {
      "image/png": "[encoded data removed]",
      "text/plain": [
       "<Figure size 432x288 with 1 Axes>"
      ]
     },
     "metadata": {
      "needs_background": "light"
     },
     "output_type": "display_data"
    }
   ],
   "source": [
    "# Create data visualization before analysis\n",
    "\n",
    "plt.figure(figsize=(10,6))\n",
    "fig, ax = plt.subplots()\n",
    "ax.plot('Time', 'JP', data=df_city, color='0.75')\n",
    "ax = sns.regplot(x='Time', y='JP', data=df_city, ci=None, scatter_kws=dict(color='0.25'))\n",
    "plt.title('Plot Periodik Jumlah Produk di Pesan');"
   ]
  },
  {
   "cell_type": "code",
   "execution_count": 15,
   "id": "4cb74493",
   "metadata": {
    "execution": {
     "iopub.execute_input": "2022-09-10T11:31:11.656244Z",
     "iopub.status.busy": "2022-09-10T11:31:11.655839Z",
     "iopub.status.idle": "2022-09-10T11:31:11.926711Z",
     "shell.execute_reply": "2022-09-10T11:31:11.925606Z"
    },
    "papermill": {
     "duration": 0.285468,
     "end_time": "2022-09-10T11:31:11.929394",
     "exception": false,
     "start_time": "2022-09-10T11:31:11.643926",
     "status": "completed"
    },
    "tags": []
   },
   "outputs": [],
   "source": [
    "# import library 'scikit-learn' for analysis\n",
    "\n",
    "from sklearn.linear_model import LinearRegression\n",
    "from sklearn.model_selection import train_test_split\n",
    "from sklearn.metrics import mean_absolute_error, r2_score "
   ]
  },
  {
   "cell_type": "code",
   "execution_count": 16,
   "id": "a06ef46e",
   "metadata": {
    "execution": {
     "iopub.execute_input": "2022-09-10T11:31:11.952561Z",
     "iopub.status.busy": "2022-09-10T11:31:11.951844Z",
     "iopub.status.idle": "2022-09-10T11:31:11.976103Z",
     "shell.execute_reply": "2022-09-10T11:31:11.974837Z"
    },
    "papermill": {
     "duration": 0.039515,
     "end_time": "2022-09-10T11:31:11.979540",
     "exception": false,
     "start_time": "2022-09-10T11:31:11.940025",
     "status": "completed"
    },
    "tags": []
   },
   "outputs": [],
   "source": [
    "# training data\n",
    "X = df_city.loc[:,['Time']]  # features\n",
    "y = df_city.loc[:, 'JP']  # target\n",
    "\n",
    "# Train the model\n",
    "model = LinearRegression()\n",
    "model.fit(X, y)\n",
    "\n",
    "# Calculate the predicted value\n",
    "y_pred = pd.Series(model.predict(X), index=X.index)"
   ]
  },
  {
   "cell_type": "code",
   "execution_count": 17,
   "id": "51207bb6",
   "metadata": {
    "execution": {
     "iopub.execute_input": "2022-09-10T11:31:12.003261Z",
     "iopub.status.busy": "2022-09-10T11:31:12.002087Z",
     "iopub.status.idle": "2022-09-10T11:31:12.009419Z",
     "shell.execute_reply": "2022-09-10T11:31:12.008540Z"
    },
    "papermill": {
     "duration": 0.021222,
     "end_time": "2022-09-10T11:31:12.011572",
     "exception": false,
     "start_time": "2022-09-10T11:31:11.990350",
     "status": "completed"
    },
    "tags": []
   },
   "outputs": [
    {
     "data": {
      "text/plain": [
       "'\\n\\nfound the predictive value with linear regression:\\n\\ny_pred = a + bX\\ny_pred = intercept + coef.X\\n\\n'"
      ]
     },
     "execution_count": 17,
     "metadata": {},
     "output_type": "execute_result"
    }
   ],
   "source": [
    "\"\"\"\n",
    "\n",
    "found the predictive value with linear regression:\n",
    "\n",
    "y_pred = a + bX\n",
    "y_pred = intercept + coef.X\n",
    "\n",
    "\"\"\""
   ]
  },
  {
   "cell_type": "code",
   "execution_count": 18,
   "id": "d51e0832",
   "metadata": {
    "execution": {
     "iopub.execute_input": "2022-09-10T11:31:12.034419Z",
     "iopub.status.busy": "2022-09-10T11:31:12.034021Z",
     "iopub.status.idle": "2022-09-10T11:31:12.043190Z",
     "shell.execute_reply": "2022-09-10T11:31:12.042409Z"
    },
    "papermill": {
     "duration": 0.023118,
     "end_time": "2022-09-10T11:31:12.045259",
     "exception": false,
     "start_time": "2022-09-10T11:31:12.022141",
     "status": "completed"
    },
    "tags": []
   },
   "outputs": [],
   "source": [
    "X_train, y_train, X_test, y_test = train_test_split(X, y, random_state=0, test_size=0.2)"
   ]
  },
  {
   "cell_type": "code",
   "execution_count": 19,
   "id": "e3c5b985",
   "metadata": {
    "execution": {
     "iopub.execute_input": "2022-09-10T11:31:12.069160Z",
     "iopub.status.busy": "2022-09-10T11:31:12.068459Z",
     "iopub.status.idle": "2022-09-10T11:31:12.078688Z",
     "shell.execute_reply": "2022-09-10T11:31:12.076802Z"
    },
    "papermill": {
     "duration": 0.02506,
     "end_time": "2022-09-10T11:31:12.081064",
     "exception": false,
     "start_time": "2022-09-10T11:31:12.056004",
     "status": "completed"
    },
    "tags": []
   },
   "outputs": [
    {
     "name": "stdout",
     "output_type": "stream",
     "text": [
      "score:  0.018002972002682638\n",
      "intercept:  2.272727272727273\n",
      "slope:  [-0.01356305]\n"
     ]
    }
   ],
   "source": [
    "print('score: ', model.score(X,y))\n",
    "print('intercept: ', model.intercept_)\n",
    "print('slope: ', model.coef_)"
   ]
  },
  {
   "cell_type": "code",
   "execution_count": 20,
   "id": "cec10541",
   "metadata": {
    "execution": {
     "iopub.execute_input": "2022-09-10T11:31:12.105130Z",
     "iopub.status.busy": "2022-09-10T11:31:12.104408Z",
     "iopub.status.idle": "2022-09-10T11:31:12.113188Z",
     "shell.execute_reply": "2022-09-10T11:31:12.111597Z"
    },
    "papermill": {
     "duration": 0.023768,
     "end_time": "2022-09-10T11:31:12.115915",
     "exception": false,
     "start_time": "2022-09-10T11:31:12.092147",
     "status": "completed"
    },
    "tags": []
   },
   "outputs": [
    {
     "name": "stdout",
     "output_type": "stream",
     "text": [
      "mae:  0.6777401026392962\n",
      "r2_score:  0.018002972002682638\n"
     ]
    }
   ],
   "source": [
    "print('mae: ', mean_absolute_error(y,y_pred))\n",
    "\n",
    "print('r2_score: ', r2_score(y, y_pred))"
   ]
  },
  {
   "cell_type": "code",
   "execution_count": 21,
   "id": "207c9253",
   "metadata": {
    "execution": {
     "iopub.execute_input": "2022-09-10T11:31:12.139736Z",
     "iopub.status.busy": "2022-09-10T11:31:12.138972Z",
     "iopub.status.idle": "2022-09-10T11:31:12.562856Z",
     "shell.execute_reply": "2022-09-10T11:31:12.561800Z"
    },
    "papermill": {
     "duration": 0.438312,
     "end_time": "2022-09-10T11:31:12.565181",
     "exception": false,
     "start_time": "2022-09-10T11:31:12.126869",
     "status": "completed"
    },
    "tags": []
   },
   "outputs": [
    {
     "data": {
      "text/plain": [
       "Text(0.5, 1.0, 'Regression Result 1')"
      ]
     },
     "execution_count": 21,
     "metadata": {},
     "output_type": "execute_result"
    },
    {
     "data": {
      "image/png": "[encoded data removed]",
      "text/plain": [
       "<Figure size 720x576 with 1 Axes>"
      ]
     },
     "metadata": {
      "needs_background": "light"
     },
     "output_type": "display_data"
    }
   ],
   "source": [
    "# plotting the 1st result of Linear Regression\n",
    "\n",
    "plt.figure(figsize=(10,8))\n",
    "ax = sns.regplot(x=X, y=y, x_bins=4)\n",
    "plt.title('Regression Result 1')"
   ]
  },
  {
   "cell_type": "code",
   "execution_count": 22,
   "id": "577ad487",
   "metadata": {
    "execution": {
     "iopub.execute_input": "2022-09-10T11:31:12.589655Z",
     "iopub.status.busy": "2022-09-10T11:31:12.589199Z",
     "iopub.status.idle": "2022-09-10T11:31:12.610382Z",
     "shell.execute_reply": "2022-09-10T11:31:12.609566Z"
    },
    "papermill": {
     "duration": 0.036114,
     "end_time": "2022-09-10T11:31:12.612764",
     "exception": false,
     "start_time": "2022-09-10T11:31:12.576650",
     "status": "completed"
    },
    "tags": []
   },
   "outputs": [
    {
     "data": {
      "text/plain": [
       "LinearRegression()"
      ]
     },
     "execution_count": 22,
     "metadata": {},
     "output_type": "execute_result"
    }
   ],
   "source": [
    "# Test data\n",
    "\n",
    "Xi = df_city.loc[:, ['Lag_1']].dropna()  # features\n",
    "yi = df_city.loc[:, 'JP']  # target\n",
    "yi, Xi = yi.align(Xi, join='inner')  # drop corresponding values in target\n",
    "\n",
    "# Create a LinearRegression instance and fit it to X and y.\n",
    "model_i = LinearRegression()\n",
    "\n",
    "# Create Store the fitted values as a time series with\n",
    "# the same time index as the training data\n",
    "model_i.fit(Xi,yi)# y_pred = pd.Series(model.predict(Xi), index=Xi.index)"
   ]
  },
  {
   "cell_type": "code",
   "execution_count": 23,
   "id": "da7c2880",
   "metadata": {
    "execution": {
     "iopub.execute_input": "2022-09-10T11:31:12.636858Z",
     "iopub.status.busy": "2022-09-10T11:31:12.636421Z",
     "iopub.status.idle": "2022-09-10T11:31:12.647000Z",
     "shell.execute_reply": "2022-09-10T11:31:12.645522Z"
    },
    "papermill": {
     "duration": 0.0268,
     "end_time": "2022-09-10T11:31:12.650657",
     "exception": false,
     "start_time": "2022-09-10T11:31:12.623857",
     "status": "completed"
    },
    "tags": []
   },
   "outputs": [
    {
     "name": "stdout",
     "output_type": "stream",
     "text": [
      "score:  0.2726246032438949\n",
      "intercept:  1.3579418344519014\n",
      "slope:  [0.49217002]\n"
     ]
    }
   ],
   "source": [
    "print('score: ', model_i.score(Xi,yi))\n",
    "print('intercept: ', model_i.intercept_)\n",
    "print('slope: ', model_i.coef_)"
   ]
  },
  {
   "cell_type": "code",
   "execution_count": 24,
   "id": "e1724631",
   "metadata": {
    "execution": {
     "iopub.execute_input": "2022-09-10T11:31:12.676287Z",
     "iopub.status.busy": "2022-09-10T11:31:12.675485Z",
     "iopub.status.idle": "2022-09-10T11:31:12.682853Z",
     "shell.execute_reply": "2022-09-10T11:31:12.681838Z"
    },
    "papermill": {
     "duration": 0.02277,
     "end_time": "2022-09-10T11:31:12.685189",
     "exception": false,
     "start_time": "2022-09-10T11:31:12.662419",
     "status": "completed"
    },
    "tags": []
   },
   "outputs": [],
   "source": [
    "yi_pred = pd.Series(model_i.predict(Xi), index=Xi.index)"
   ]
  },
  {
   "cell_type": "code",
   "execution_count": 25,
   "id": "55971388",
   "metadata": {
    "execution": {
     "iopub.execute_input": "2022-09-10T11:31:12.709599Z",
     "iopub.status.busy": "2022-09-10T11:31:12.709204Z",
     "iopub.status.idle": "2022-09-10T11:31:12.717815Z",
     "shell.execute_reply": "2022-09-10T11:31:12.716333Z"
    },
    "papermill": {
     "duration": 0.02418,
     "end_time": "2022-09-10T11:31:12.720789",
     "exception": false,
     "start_time": "2022-09-10T11:31:12.696609",
     "status": "completed"
    },
    "tags": []
   },
   "outputs": [
    {
     "name": "stdout",
     "output_type": "stream",
     "text": [
      "mea:  0.6302888824044353\n",
      "r2_square:  0.2726246032438949\n"
     ]
    }
   ],
   "source": [
    "print('mea: ', mean_absolute_error(yi ,yi_pred))\n",
    "print('r2_square: ', r2_score(yi, yi_pred))"
   ]
  },
  {
   "cell_type": "code",
   "execution_count": 26,
   "id": "d6c9621a",
   "metadata": {
    "execution": {
     "iopub.execute_input": "2022-09-10T11:31:12.745364Z",
     "iopub.status.busy": "2022-09-10T11:31:12.744702Z",
     "iopub.status.idle": "2022-09-10T11:31:13.175117Z",
     "shell.execute_reply": "2022-09-10T11:31:13.173942Z"
    },
    "papermill": {
     "duration": 0.445357,
     "end_time": "2022-09-10T11:31:13.177768",
     "exception": false,
     "start_time": "2022-09-10T11:31:12.732411",
     "status": "completed"
    },
    "tags": []
   },
   "outputs": [
    {
     "data": {
      "text/plain": [
       "Text(0.5, 1.0, 'Regression Graphic (yi_pred)')"
      ]
     },
     "execution_count": 26,
     "metadata": {},
     "output_type": "execute_result"
    },
    {
     "data": {
      "image/png": "[encoded data removed]",
      "text/plain": [
       "<Figure size 720x576 with 1 Axes>"
      ]
     },
     "metadata": {
      "needs_background": "light"
     },
     "output_type": "display_data"
    }
   ],
   "source": [
    "# prediction graph based on variable Lag_1\n",
    "\n",
    "plt.figure(figsize=(10,8))\n",
    "ax = sns.regplot(x=Xi, y=yi, x_bins=4)\n",
    "plt.title('Regression Graphic (yi_pred)')"
   ]
  }
 ],
 "metadata": {
  "kernelspec": {
   "display_name": "Python 3",
   "language": "python",
   "name": "python3"
  },
  "language_info": {
   "codemirror_mode": {
    "name": "ipython",
    "version": 3
   },
   "file_extension": ".py",
   "mimetype": "text/x-python",
   "name": "python",
   "nbconvert_exporter": "python",
   "pygments_lexer": "ipython3",
   "version": "3.7.12"
  },
  "papermill": {
   "default_parameters": {},
   "duration": 15.292143,
   "end_time": "2022-09-10T11:31:13.911713",
   "environment_variables": {},
   "exception": null,
   "input_path": "__notebook__.ipynb",
   "output_path": "__notebook__.ipynb",
   "parameters": {},
   "start_time": "2022-09-10T11:30:58.619570",
   "version": "2.3.4"
  }
 },
 "nbformat": 4,
 "nbformat_minor": 5
}
