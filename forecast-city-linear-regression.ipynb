{
 "cells": [
  {
   "cell_type": "code",
   "execution_count": 1,
   "id": "f4161ee3",
   "metadata": {
    "execution": {
     "iopub.execute_input": "2022-09-10T03:56:48.355247Z",
     "iopub.status.busy": "2022-09-10T03:56:48.354810Z",
     "iopub.status.idle": "2022-09-10T03:56:49.550690Z",
     "shell.execute_reply": "2022-09-10T03:56:49.549453Z"
    },
    "papermill": {
     "duration": 1.208429,
     "end_time": "2022-09-10T03:56:49.553549",
     "exception": false,
     "start_time": "2022-09-10T03:56:48.345120",
     "status": "completed"
    },
    "tags": []
   },
   "outputs": [
    {
     "data": {
      "text/html": [
       "<div>\n",
       "<style scoped>\n",
       "    .dataframe tbody tr th:only-of-type {\n",
       "        vertical-align: middle;\n",
       "    }\n",
       "\n",
       "    .dataframe tbody tr th {\n",
       "        vertical-align: top;\n",
       "    }\n",
       "\n",
       "    .dataframe thead th {\n",
       "        text-align: right;\n",
       "    }\n",
       "</style>\n",
       "<table border=\"1\" class=\"dataframe\">\n",
       "  <thead>\n",
       "    <tr style=\"text-align: right;\">\n",
       "      <th></th>\n",
       "      <th>No. Pesanan</th>\n",
       "      <th>Status Pesanan</th>\n",
       "      <th>Status Pembatalan/ Pengembalian</th>\n",
       "      <th>No. Resi</th>\n",
       "      <th>Opsi Pengiriman</th>\n",
       "      <th>Antar ke counter/ pick-up</th>\n",
       "      <th>Pesanan Harus Dikirimkan Sebelum (Menghindari keterlambatan)</th>\n",
       "      <th>Waktu Pengiriman Diatur</th>\n",
       "      <th>Waktu Pesanan Dibuat</th>\n",
       "      <th>Waktu Pembayaran Dilakukan</th>\n",
       "      <th>...</th>\n",
       "      <th>Paket Diskon (Diskon dari Penjual)</th>\n",
       "      <th>Potongan Koin Shopee</th>\n",
       "      <th>Diskon Kartu Kredit</th>\n",
       "      <th>Ongkos Kirim Dibayar oleh Pembeli</th>\n",
       "      <th>Total Pembayaran</th>\n",
       "      <th>Perkiraan Ongkos Kirim</th>\n",
       "      <th>Catatan dari Pembeli</th>\n",
       "      <th>Catatan</th>\n",
       "      <th>city</th>\n",
       "      <th>user_id</th>\n",
       "    </tr>\n",
       "  </thead>\n",
       "  <tbody>\n",
       "    <tr>\n",
       "      <th>0</th>\n",
       "      <td>2104058FJ8QS3F</td>\n",
       "      <td>Selesai</td>\n",
       "      <td>NaN</td>\n",
       "      <td>2517234415</td>\n",
       "      <td>Reguler\\nSiCepat REG</td>\n",
       "      <td>Pickup</td>\n",
       "      <td>08/04/2021</td>\n",
       "      <td>05 April 2021</td>\n",
       "      <td>05 April 2021</td>\n",
       "      <td>05/04/2021 10:13</td>\n",
       "      <td>...</td>\n",
       "      <td>0</td>\n",
       "      <td>0</td>\n",
       "      <td>0</td>\n",
       "      <td>0</td>\n",
       "      <td>274500</td>\n",
       "      <td>7500</td>\n",
       "      <td>NaN</td>\n",
       "      <td>NaN</td>\n",
       "      <td>Jakarta Selatan</td>\n",
       "      <td>259</td>\n",
       "    </tr>\n",
       "    <tr>\n",
       "      <th>1</th>\n",
       "      <td>2104020SJUJJ1V</td>\n",
       "      <td>Selesai</td>\n",
       "      <td>NaN</td>\n",
       "      <td>2515685013</td>\n",
       "      <td>Reguler\\nSiCepat REG</td>\n",
       "      <td>Pickup</td>\n",
       "      <td>06/04/2021</td>\n",
       "      <td>03 April 2021</td>\n",
       "      <td>02 April 2021</td>\n",
       "      <td>02/04/2021 08:51</td>\n",
       "      <td>...</td>\n",
       "      <td>10000</td>\n",
       "      <td>836</td>\n",
       "      <td>0</td>\n",
       "      <td>0</td>\n",
       "      <td>401082</td>\n",
       "      <td>17000</td>\n",
       "      <td>NaN</td>\n",
       "      <td>NaN</td>\n",
       "      <td>Palembang</td>\n",
       "      <td>198</td>\n",
       "    </tr>\n",
       "    <tr>\n",
       "      <th>2</th>\n",
       "      <td>2104020SJUJJ1V</td>\n",
       "      <td>Selesai</td>\n",
       "      <td>NaN</td>\n",
       "      <td>2515685013</td>\n",
       "      <td>Reguler\\nSiCepat REG</td>\n",
       "      <td>Pickup</td>\n",
       "      <td>06/04/2021</td>\n",
       "      <td>03 April 2021</td>\n",
       "      <td>02 April 2021</td>\n",
       "      <td>02/04/2021 08:51</td>\n",
       "      <td>...</td>\n",
       "      <td>10000</td>\n",
       "      <td>836</td>\n",
       "      <td>0</td>\n",
       "      <td>0</td>\n",
       "      <td>401082</td>\n",
       "      <td>17000</td>\n",
       "      <td>NaN</td>\n",
       "      <td>NaN</td>\n",
       "      <td>Palembang</td>\n",
       "      <td>198</td>\n",
       "    </tr>\n",
       "    <tr>\n",
       "      <th>3</th>\n",
       "      <td>210406BVK7FH0R</td>\n",
       "      <td>Selesai</td>\n",
       "      <td>NaN</td>\n",
       "      <td>IN-2-0IUPCRH3H1JP2YC6BXZ3</td>\n",
       "      <td>Instant\\nGrabExpress Instant</td>\n",
       "      <td>Pickup</td>\n",
       "      <td>08/04/2021</td>\n",
       "      <td>07 April 2021</td>\n",
       "      <td>06 April 2021</td>\n",
       "      <td>06/04/2021 18:44</td>\n",
       "      <td>...</td>\n",
       "      <td>10000</td>\n",
       "      <td>0</td>\n",
       "      <td>0</td>\n",
       "      <td>11000</td>\n",
       "      <td>530250</td>\n",
       "      <td>11000</td>\n",
       "      <td>NaN</td>\n",
       "      <td>NaN</td>\n",
       "      <td>Surabaya</td>\n",
       "      <td>209</td>\n",
       "    </tr>\n",
       "    <tr>\n",
       "      <th>4</th>\n",
       "      <td>210406BVK7FH0R</td>\n",
       "      <td>Selesai</td>\n",
       "      <td>NaN</td>\n",
       "      <td>IN-2-0IUPCRH3H1JP2YC6BXZ3</td>\n",
       "      <td>Instant\\nGrabExpress Instant</td>\n",
       "      <td>Pickup</td>\n",
       "      <td>08/04/2021</td>\n",
       "      <td>07 April 2021</td>\n",
       "      <td>06 April 2021</td>\n",
       "      <td>06/04/2021 18:44</td>\n",
       "      <td>...</td>\n",
       "      <td>10000</td>\n",
       "      <td>0</td>\n",
       "      <td>0</td>\n",
       "      <td>11000</td>\n",
       "      <td>530250</td>\n",
       "      <td>11000</td>\n",
       "      <td>NaN</td>\n",
       "      <td>NaN</td>\n",
       "      <td>Surabaya</td>\n",
       "      <td>209</td>\n",
       "    </tr>\n",
       "  </tbody>\n",
       "</table>\n",
       "<p>5 rows × 39 columns</p>\n",
       "</div>"
      ],
      "text/plain": [
       "      No. Pesanan Status Pesanan  Status Pembatalan/ Pengembalian  \\\n",
       "0  2104058FJ8QS3F        Selesai                              NaN   \n",
       "1  2104020SJUJJ1V        Selesai                              NaN   \n",
       "2  2104020SJUJJ1V        Selesai                              NaN   \n",
       "3  210406BVK7FH0R        Selesai                              NaN   \n",
       "4  210406BVK7FH0R        Selesai                              NaN   \n",
       "\n",
       "                    No. Resi               Opsi Pengiriman  \\\n",
       "0                 2517234415          Reguler\\nSiCepat REG   \n",
       "1                 2515685013          Reguler\\nSiCepat REG   \n",
       "2                 2515685013          Reguler\\nSiCepat REG   \n",
       "3  IN-2-0IUPCRH3H1JP2YC6BXZ3  Instant\\nGrabExpress Instant   \n",
       "4  IN-2-0IUPCRH3H1JP2YC6BXZ3  Instant\\nGrabExpress Instant   \n",
       "\n",
       "  Antar ke counter/ pick-up  \\\n",
       "0                    Pickup   \n",
       "1                    Pickup   \n",
       "2                    Pickup   \n",
       "3                    Pickup   \n",
       "4                    Pickup   \n",
       "\n",
       "  Pesanan Harus Dikirimkan Sebelum (Menghindari keterlambatan)  \\\n",
       "0                                         08/04/2021             \n",
       "1                                         06/04/2021             \n",
       "2                                         06/04/2021             \n",
       "3                                         08/04/2021             \n",
       "4                                         08/04/2021             \n",
       "\n",
       "  Waktu Pengiriman Diatur Waktu Pesanan Dibuat Waktu Pembayaran Dilakukan  \\\n",
       "0           05 April 2021        05 April 2021           05/04/2021 10:13   \n",
       "1           03 April 2021        02 April 2021           02/04/2021 08:51   \n",
       "2           03 April 2021        02 April 2021           02/04/2021 08:51   \n",
       "3           07 April 2021        06 April 2021           06/04/2021 18:44   \n",
       "4           07 April 2021        06 April 2021           06/04/2021 18:44   \n",
       "\n",
       "   ...  Paket Diskon (Diskon dari Penjual) Potongan Koin Shopee  \\\n",
       "0  ...                                   0                    0   \n",
       "1  ...                               10000                  836   \n",
       "2  ...                               10000                  836   \n",
       "3  ...                               10000                    0   \n",
       "4  ...                               10000                    0   \n",
       "\n",
       "  Diskon Kartu Kredit Ongkos Kirim Dibayar oleh Pembeli  Total Pembayaran  \\\n",
       "0                   0                                 0            274500   \n",
       "1                   0                                 0            401082   \n",
       "2                   0                                 0            401082   \n",
       "3                   0                             11000            530250   \n",
       "4                   0                             11000            530250   \n",
       "\n",
       "   Perkiraan Ongkos Kirim  Catatan dari Pembeli  Catatan             city  \\\n",
       "0                    7500                   NaN      NaN  Jakarta Selatan   \n",
       "1                   17000                   NaN      NaN        Palembang   \n",
       "2                   17000                   NaN      NaN        Palembang   \n",
       "3                   11000                   NaN      NaN         Surabaya   \n",
       "4                   11000                   NaN      NaN         Surabaya   \n",
       "\n",
       "   user_id  \n",
       "0      259  \n",
       "1      198  \n",
       "2      198  \n",
       "3      209  \n",
       "4      209  \n",
       "\n",
       "[5 rows x 39 columns]"
      ]
     },
     "execution_count": 1,
     "metadata": {},
     "output_type": "execute_result"
    }
   ],
   "source": [
    "from learntools.core import binder\n",
    "binder.bind(globals())\n",
    "from pathlib import Path\n",
    "\n",
    "import pandas as pd\n",
    "import numpy as np\n",
    "import matplotlib.pyplot as plt\n",
    "import seaborn as sns\n",
    "\n",
    "datadir = Path('../input/shopee-order-april/')  \n",
    "shope_order = pd.read_csv(datadir/'Shopee_order_april.csv')\n",
    "shope_order.head()"
   ]
  },
  {
   "cell_type": "code",
   "execution_count": 2,
   "id": "5eda6a3b",
   "metadata": {
    "execution": {
     "iopub.execute_input": "2022-09-10T03:56:49.570692Z",
     "iopub.status.busy": "2022-09-10T03:56:49.570239Z",
     "iopub.status.idle": "2022-09-10T03:56:49.656103Z",
     "shell.execute_reply": "2022-09-10T03:56:49.655047Z"
    },
    "papermill": {
     "duration": 0.097112,
     "end_time": "2022-09-10T03:56:49.658644",
     "exception": false,
     "start_time": "2022-09-10T03:56:49.561532",
     "status": "completed"
    },
    "tags": []
   },
   "outputs": [
    {
     "data": {
      "text/html": [
       "<div>\n",
       "<style scoped>\n",
       "    .dataframe tbody tr th:only-of-type {\n",
       "        vertical-align: middle;\n",
       "    }\n",
       "\n",
       "    .dataframe tbody tr th {\n",
       "        vertical-align: top;\n",
       "    }\n",
       "\n",
       "    .dataframe thead th {\n",
       "        text-align: right;\n",
       "    }\n",
       "</style>\n",
       "<table border=\"1\" class=\"dataframe\">\n",
       "  <thead>\n",
       "    <tr style=\"text-align: right;\">\n",
       "      <th></th>\n",
       "      <th>Status Pembatalan/ Pengembalian</th>\n",
       "      <th>SKU Induk</th>\n",
       "      <th>Harga Awal</th>\n",
       "      <th>Harga Setelah Diskon</th>\n",
       "      <th>Jumlah</th>\n",
       "      <th>Total Harga Produk</th>\n",
       "      <th>Total Diskon</th>\n",
       "      <th>Diskon Dari Penjual</th>\n",
       "      <th>Diskon Dari Shopee</th>\n",
       "      <th>Berat Produk</th>\n",
       "      <th>...</th>\n",
       "      <th>Voucher Ditanggung Shopee</th>\n",
       "      <th>Paket Diskon (Diskon dari Shopee)</th>\n",
       "      <th>Paket Diskon (Diskon dari Penjual)</th>\n",
       "      <th>Potongan Koin Shopee</th>\n",
       "      <th>Diskon Kartu Kredit</th>\n",
       "      <th>Ongkos Kirim Dibayar oleh Pembeli</th>\n",
       "      <th>Total Pembayaran</th>\n",
       "      <th>Perkiraan Ongkos Kirim</th>\n",
       "      <th>Catatan</th>\n",
       "      <th>user_id</th>\n",
       "    </tr>\n",
       "  </thead>\n",
       "  <tbody>\n",
       "    <tr>\n",
       "      <th>count</th>\n",
       "      <td>0.0</td>\n",
       "      <td>0.0</td>\n",
       "      <td>32.000000</td>\n",
       "      <td>32.000000</td>\n",
       "      <td>32.0</td>\n",
       "      <td>32.000000</td>\n",
       "      <td>32.000000</td>\n",
       "      <td>32.000000</td>\n",
       "      <td>32.0</td>\n",
       "      <td>32.0</td>\n",
       "      <td>...</td>\n",
       "      <td>32.0</td>\n",
       "      <td>32.0</td>\n",
       "      <td>32.000000</td>\n",
       "      <td>32.000000</td>\n",
       "      <td>32.0</td>\n",
       "      <td>32.000000</td>\n",
       "      <td>32.000000</td>\n",
       "      <td>32.000000</td>\n",
       "      <td>0.0</td>\n",
       "      <td>32.000000</td>\n",
       "    </tr>\n",
       "    <tr>\n",
       "      <th>mean</th>\n",
       "      <td>NaN</td>\n",
       "      <td>NaN</td>\n",
       "      <td>186687.500000</td>\n",
       "      <td>176058.125000</td>\n",
       "      <td>1.0</td>\n",
       "      <td>176058.125000</td>\n",
       "      <td>10628.437500</td>\n",
       "      <td>10628.437500</td>\n",
       "      <td>0.0</td>\n",
       "      <td>300.0</td>\n",
       "      <td>...</td>\n",
       "      <td>0.0</td>\n",
       "      <td>0.0</td>\n",
       "      <td>5625.000000</td>\n",
       "      <td>9988.656250</td>\n",
       "      <td>0.0</td>\n",
       "      <td>2156.250000</td>\n",
       "      <td>339621.250000</td>\n",
       "      <td>11812.500000</td>\n",
       "      <td>NaN</td>\n",
       "      <td>114.843750</td>\n",
       "    </tr>\n",
       "    <tr>\n",
       "      <th>std</th>\n",
       "      <td>NaN</td>\n",
       "      <td>NaN</td>\n",
       "      <td>48925.346357</td>\n",
       "      <td>49696.580675</td>\n",
       "      <td>0.0</td>\n",
       "      <td>49696.580675</td>\n",
       "      <td>11161.806406</td>\n",
       "      <td>11161.806406</td>\n",
       "      <td>0.0</td>\n",
       "      <td>0.0</td>\n",
       "      <td>...</td>\n",
       "      <td>0.0</td>\n",
       "      <td>0.0</td>\n",
       "      <td>5040.161288</td>\n",
       "      <td>15985.160807</td>\n",
       "      <td>0.0</td>\n",
       "      <td>4149.305228</td>\n",
       "      <td>126563.870474</td>\n",
       "      <td>5590.530588</td>\n",
       "      <td>NaN</td>\n",
       "      <td>71.577213</td>\n",
       "    </tr>\n",
       "    <tr>\n",
       "      <th>min</th>\n",
       "      <td>NaN</td>\n",
       "      <td>NaN</td>\n",
       "      <td>134000.000000</td>\n",
       "      <td>113900.000000</td>\n",
       "      <td>1.0</td>\n",
       "      <td>113900.000000</td>\n",
       "      <td>0.000000</td>\n",
       "      <td>0.000000</td>\n",
       "      <td>0.0</td>\n",
       "      <td>300.0</td>\n",
       "      <td>...</td>\n",
       "      <td>0.0</td>\n",
       "      <td>0.0</td>\n",
       "      <td>0.000000</td>\n",
       "      <td>0.000000</td>\n",
       "      <td>0.0</td>\n",
       "      <td>0.000000</td>\n",
       "      <td>103316.000000</td>\n",
       "      <td>3500.000000</td>\n",
       "      <td>NaN</td>\n",
       "      <td>5.000000</td>\n",
       "    </tr>\n",
       "    <tr>\n",
       "      <th>25%</th>\n",
       "      <td>NaN</td>\n",
       "      <td>NaN</td>\n",
       "      <td>141500.000000</td>\n",
       "      <td>132896.000000</td>\n",
       "      <td>1.0</td>\n",
       "      <td>132896.000000</td>\n",
       "      <td>4044.000000</td>\n",
       "      <td>4044.000000</td>\n",
       "      <td>0.0</td>\n",
       "      <td>300.0</td>\n",
       "      <td>...</td>\n",
       "      <td>0.0</td>\n",
       "      <td>0.0</td>\n",
       "      <td>0.000000</td>\n",
       "      <td>0.000000</td>\n",
       "      <td>0.0</td>\n",
       "      <td>0.000000</td>\n",
       "      <td>254500.000000</td>\n",
       "      <td>8625.000000</td>\n",
       "      <td>NaN</td>\n",
       "      <td>63.750000</td>\n",
       "    </tr>\n",
       "    <tr>\n",
       "      <th>50%</th>\n",
       "      <td>NaN</td>\n",
       "      <td>NaN</td>\n",
       "      <td>172000.000000</td>\n",
       "      <td>165454.000000</td>\n",
       "      <td>1.0</td>\n",
       "      <td>165454.000000</td>\n",
       "      <td>5240.000000</td>\n",
       "      <td>5240.000000</td>\n",
       "      <td>0.0</td>\n",
       "      <td>300.0</td>\n",
       "      <td>...</td>\n",
       "      <td>0.0</td>\n",
       "      <td>0.0</td>\n",
       "      <td>10000.000000</td>\n",
       "      <td>553.500000</td>\n",
       "      <td>0.0</td>\n",
       "      <td>0.000000</td>\n",
       "      <td>367169.000000</td>\n",
       "      <td>10000.000000</td>\n",
       "      <td>NaN</td>\n",
       "      <td>81.000000</td>\n",
       "    </tr>\n",
       "    <tr>\n",
       "      <th>75%</th>\n",
       "      <td>NaN</td>\n",
       "      <td>NaN</td>\n",
       "      <td>244500.000000</td>\n",
       "      <td>210534.000000</td>\n",
       "      <td>1.0</td>\n",
       "      <td>210534.000000</td>\n",
       "      <td>20100.000000</td>\n",
       "      <td>20100.000000</td>\n",
       "      <td>0.0</td>\n",
       "      <td>300.0</td>\n",
       "      <td>...</td>\n",
       "      <td>0.0</td>\n",
       "      <td>0.0</td>\n",
       "      <td>10000.000000</td>\n",
       "      <td>15000.000000</td>\n",
       "      <td>0.0</td>\n",
       "      <td>2375.000000</td>\n",
       "      <td>409360.500000</td>\n",
       "      <td>15000.000000</td>\n",
       "      <td>NaN</td>\n",
       "      <td>186.000000</td>\n",
       "    </tr>\n",
       "    <tr>\n",
       "      <th>max</th>\n",
       "      <td>NaN</td>\n",
       "      <td>NaN</td>\n",
       "      <td>279500.000000</td>\n",
       "      <td>274500.000000</td>\n",
       "      <td>1.0</td>\n",
       "      <td>274500.000000</td>\n",
       "      <td>36674.000000</td>\n",
       "      <td>36674.000000</td>\n",
       "      <td>0.0</td>\n",
       "      <td>300.0</td>\n",
       "      <td>...</td>\n",
       "      <td>0.0</td>\n",
       "      <td>0.0</td>\n",
       "      <td>10000.000000</td>\n",
       "      <td>43598.000000</td>\n",
       "      <td>0.0</td>\n",
       "      <td>17000.000000</td>\n",
       "      <td>530250.000000</td>\n",
       "      <td>27000.000000</td>\n",
       "      <td>NaN</td>\n",
       "      <td>259.000000</td>\n",
       "    </tr>\n",
       "  </tbody>\n",
       "</table>\n",
       "<p>8 rows × 24 columns</p>\n",
       "</div>"
      ],
      "text/plain": [
       "       Status Pembatalan/ Pengembalian  SKU Induk     Harga Awal  \\\n",
       "count                              0.0        0.0      32.000000   \n",
       "mean                               NaN        NaN  186687.500000   \n",
       "std                                NaN        NaN   48925.346357   \n",
       "min                                NaN        NaN  134000.000000   \n",
       "25%                                NaN        NaN  141500.000000   \n",
       "50%                                NaN        NaN  172000.000000   \n",
       "75%                                NaN        NaN  244500.000000   \n",
       "max                                NaN        NaN  279500.000000   \n",
       "\n",
       "       Harga Setelah Diskon  Jumlah  Total Harga Produk  Total Diskon  \\\n",
       "count             32.000000    32.0           32.000000     32.000000   \n",
       "mean          176058.125000     1.0       176058.125000  10628.437500   \n",
       "std            49696.580675     0.0        49696.580675  11161.806406   \n",
       "min           113900.000000     1.0       113900.000000      0.000000   \n",
       "25%           132896.000000     1.0       132896.000000   4044.000000   \n",
       "50%           165454.000000     1.0       165454.000000   5240.000000   \n",
       "75%           210534.000000     1.0       210534.000000  20100.000000   \n",
       "max           274500.000000     1.0       274500.000000  36674.000000   \n",
       "\n",
       "       Diskon Dari Penjual  Diskon Dari Shopee  Berat Produk  ...  \\\n",
       "count            32.000000                32.0          32.0  ...   \n",
       "mean          10628.437500                 0.0         300.0  ...   \n",
       "std           11161.806406                 0.0           0.0  ...   \n",
       "min               0.000000                 0.0         300.0  ...   \n",
       "25%            4044.000000                 0.0         300.0  ...   \n",
       "50%            5240.000000                 0.0         300.0  ...   \n",
       "75%           20100.000000                 0.0         300.0  ...   \n",
       "max           36674.000000                 0.0         300.0  ...   \n",
       "\n",
       "       Voucher Ditanggung Shopee  Paket Diskon (Diskon dari Shopee)  \\\n",
       "count                       32.0                               32.0   \n",
       "mean                         0.0                                0.0   \n",
       "std                          0.0                                0.0   \n",
       "min                          0.0                                0.0   \n",
       "25%                          0.0                                0.0   \n",
       "50%                          0.0                                0.0   \n",
       "75%                          0.0                                0.0   \n",
       "max                          0.0                                0.0   \n",
       "\n",
       "       Paket Diskon (Diskon dari Penjual)  Potongan Koin Shopee  \\\n",
       "count                           32.000000             32.000000   \n",
       "mean                          5625.000000           9988.656250   \n",
       "std                           5040.161288          15985.160807   \n",
       "min                              0.000000              0.000000   \n",
       "25%                              0.000000              0.000000   \n",
       "50%                          10000.000000            553.500000   \n",
       "75%                          10000.000000          15000.000000   \n",
       "max                          10000.000000          43598.000000   \n",
       "\n",
       "       Diskon Kartu Kredit  Ongkos Kirim Dibayar oleh Pembeli  \\\n",
       "count                 32.0                          32.000000   \n",
       "mean                   0.0                        2156.250000   \n",
       "std                    0.0                        4149.305228   \n",
       "min                    0.0                           0.000000   \n",
       "25%                    0.0                           0.000000   \n",
       "50%                    0.0                           0.000000   \n",
       "75%                    0.0                        2375.000000   \n",
       "max                    0.0                       17000.000000   \n",
       "\n",
       "       Total Pembayaran  Perkiraan Ongkos Kirim  Catatan     user_id  \n",
       "count         32.000000               32.000000      0.0   32.000000  \n",
       "mean      339621.250000            11812.500000      NaN  114.843750  \n",
       "std       126563.870474             5590.530588      NaN   71.577213  \n",
       "min       103316.000000             3500.000000      NaN    5.000000  \n",
       "25%       254500.000000             8625.000000      NaN   63.750000  \n",
       "50%       367169.000000            10000.000000      NaN   81.000000  \n",
       "75%       409360.500000            15000.000000      NaN  186.000000  \n",
       "max       530250.000000            27000.000000      NaN  259.000000  \n",
       "\n",
       "[8 rows x 24 columns]"
      ]
     },
     "execution_count": 2,
     "metadata": {},
     "output_type": "execute_result"
    }
   ],
   "source": [
    "shope_order.describe()"
   ]
  },
  {
   "cell_type": "code",
   "execution_count": 3,
   "id": "27ab7552",
   "metadata": {
    "execution": {
     "iopub.execute_input": "2022-09-10T03:56:49.675588Z",
     "iopub.status.busy": "2022-09-10T03:56:49.674856Z",
     "iopub.status.idle": "2022-09-10T03:56:49.688789Z",
     "shell.execute_reply": "2022-09-10T03:56:49.686615Z"
    },
    "papermill": {
     "duration": 0.026051,
     "end_time": "2022-09-10T03:56:49.692202",
     "exception": false,
     "start_time": "2022-09-10T03:56:49.666151",
     "status": "completed"
    },
    "tags": []
   },
   "outputs": [
    {
     "data": {
      "text/html": [
       "<div>\n",
       "<style scoped>\n",
       "    .dataframe tbody tr th:only-of-type {\n",
       "        vertical-align: middle;\n",
       "    }\n",
       "\n",
       "    .dataframe tbody tr th {\n",
       "        vertical-align: top;\n",
       "    }\n",
       "\n",
       "    .dataframe thead th {\n",
       "        text-align: right;\n",
       "    }\n",
       "</style>\n",
       "<table border=\"1\" class=\"dataframe\">\n",
       "  <thead>\n",
       "    <tr style=\"text-align: right;\">\n",
       "      <th></th>\n",
       "      <th>Waktu Pesanan Dibuat</th>\n",
       "      <th>city</th>\n",
       "      <th>Jumlah Produk di Pesan</th>\n",
       "    </tr>\n",
       "  </thead>\n",
       "  <tbody>\n",
       "    <tr>\n",
       "      <th>0</th>\n",
       "      <td>05 April 2021</td>\n",
       "      <td>Jakarta Selatan</td>\n",
       "      <td>1</td>\n",
       "    </tr>\n",
       "    <tr>\n",
       "      <th>1</th>\n",
       "      <td>02 April 2021</td>\n",
       "      <td>Palembang</td>\n",
       "      <td>2</td>\n",
       "    </tr>\n",
       "    <tr>\n",
       "      <th>2</th>\n",
       "      <td>02 April 2021</td>\n",
       "      <td>Palembang</td>\n",
       "      <td>2</td>\n",
       "    </tr>\n",
       "    <tr>\n",
       "      <th>3</th>\n",
       "      <td>06 April 2021</td>\n",
       "      <td>Surabaya</td>\n",
       "      <td>2</td>\n",
       "    </tr>\n",
       "    <tr>\n",
       "      <th>4</th>\n",
       "      <td>06 April 2021</td>\n",
       "      <td>Surabaya</td>\n",
       "      <td>2</td>\n",
       "    </tr>\n",
       "  </tbody>\n",
       "</table>\n",
       "</div>"
      ],
      "text/plain": [
       "  Waktu Pesanan Dibuat             city  Jumlah Produk di Pesan\n",
       "0        05 April 2021  Jakarta Selatan                       1\n",
       "1        02 April 2021        Palembang                       2\n",
       "2        02 April 2021        Palembang                       2\n",
       "3        06 April 2021         Surabaya                       2\n",
       "4        06 April 2021         Surabaya                       2"
      ]
     },
     "execution_count": 3,
     "metadata": {},
     "output_type": "execute_result"
    }
   ],
   "source": [
    "df_city = shope_order.loc[:,['Waktu Pesanan Dibuat', 'city', 'Jumlah Produk di Pesan']]\n",
    "df_city.head()"
   ]
  },
  {
   "cell_type": "code",
   "execution_count": 4,
   "id": "102c1a25",
   "metadata": {
    "execution": {
     "iopub.execute_input": "2022-09-10T03:56:49.712654Z",
     "iopub.status.busy": "2022-09-10T03:56:49.711887Z",
     "iopub.status.idle": "2022-09-10T03:56:49.719734Z",
     "shell.execute_reply": "2022-09-10T03:56:49.718899Z"
    },
    "papermill": {
     "duration": 0.01962,
     "end_time": "2022-09-10T03:56:49.721735",
     "exception": false,
     "start_time": "2022-09-10T03:56:49.702115",
     "status": "completed"
    },
    "tags": []
   },
   "outputs": [
    {
     "data": {
      "text/plain": [
       "Waktu Pesanan Dibuat      object\n",
       "city                      object\n",
       "Jumlah Produk di Pesan     int64\n",
       "dtype: object"
      ]
     },
     "execution_count": 4,
     "metadata": {},
     "output_type": "execute_result"
    }
   ],
   "source": [
    "df_city.dtypes"
   ]
  },
  {
   "cell_type": "code",
   "execution_count": 5,
   "id": "01264889",
   "metadata": {
    "execution": {
     "iopub.execute_input": "2022-09-10T03:56:49.744990Z",
     "iopub.status.busy": "2022-09-10T03:56:49.744464Z",
     "iopub.status.idle": "2022-09-10T03:56:49.771205Z",
     "shell.execute_reply": "2022-09-10T03:56:49.770142Z"
    },
    "papermill": {
     "duration": 0.042029,
     "end_time": "2022-09-10T03:56:49.773583",
     "exception": false,
     "start_time": "2022-09-10T03:56:49.731554",
     "status": "completed"
    },
    "tags": []
   },
   "outputs": [
    {
     "data": {
      "text/html": [
       "<div>\n",
       "<style scoped>\n",
       "    .dataframe tbody tr th:only-of-type {\n",
       "        vertical-align: middle;\n",
       "    }\n",
       "\n",
       "    .dataframe tbody tr th {\n",
       "        vertical-align: top;\n",
       "    }\n",
       "\n",
       "    .dataframe thead th {\n",
       "        text-align: right;\n",
       "    }\n",
       "</style>\n",
       "<table border=\"1\" class=\"dataframe\">\n",
       "  <thead>\n",
       "    <tr style=\"text-align: right;\">\n",
       "      <th></th>\n",
       "      <th>Waktu Pesanan Dibuat</th>\n",
       "      <th>city</th>\n",
       "      <th>Jumlah Produk di Pesan</th>\n",
       "      <th>WP</th>\n",
       "    </tr>\n",
       "  </thead>\n",
       "  <tbody>\n",
       "    <tr>\n",
       "      <th>0</th>\n",
       "      <td>05 April 2021</td>\n",
       "      <td>Jakarta Selatan</td>\n",
       "      <td>1</td>\n",
       "      <td>2021-04-05</td>\n",
       "    </tr>\n",
       "    <tr>\n",
       "      <th>1</th>\n",
       "      <td>02 April 2021</td>\n",
       "      <td>Palembang</td>\n",
       "      <td>2</td>\n",
       "      <td>2021-04-02</td>\n",
       "    </tr>\n",
       "    <tr>\n",
       "      <th>2</th>\n",
       "      <td>02 April 2021</td>\n",
       "      <td>Palembang</td>\n",
       "      <td>2</td>\n",
       "      <td>2021-04-02</td>\n",
       "    </tr>\n",
       "    <tr>\n",
       "      <th>3</th>\n",
       "      <td>06 April 2021</td>\n",
       "      <td>Surabaya</td>\n",
       "      <td>2</td>\n",
       "      <td>2021-04-06</td>\n",
       "    </tr>\n",
       "    <tr>\n",
       "      <th>4</th>\n",
       "      <td>06 April 2021</td>\n",
       "      <td>Surabaya</td>\n",
       "      <td>2</td>\n",
       "      <td>2021-04-06</td>\n",
       "    </tr>\n",
       "  </tbody>\n",
       "</table>\n",
       "</div>"
      ],
      "text/plain": [
       "  Waktu Pesanan Dibuat             city  Jumlah Produk di Pesan         WP\n",
       "0        05 April 2021  Jakarta Selatan                       1 2021-04-05\n",
       "1        02 April 2021        Palembang                       2 2021-04-02\n",
       "2        02 April 2021        Palembang                       2 2021-04-02\n",
       "3        06 April 2021         Surabaya                       2 2021-04-06\n",
       "4        06 April 2021         Surabaya                       2 2021-04-06"
      ]
     },
     "execution_count": 5,
     "metadata": {},
     "output_type": "execute_result"
    }
   ],
   "source": [
    "df_city['WP'] = pd.to_datetime(df_city['Waktu Pesanan Dibuat'])\n",
    "df_city.head()"
   ]
  },
  {
   "cell_type": "code",
   "execution_count": 6,
   "id": "2e1f0bd9",
   "metadata": {
    "execution": {
     "iopub.execute_input": "2022-09-10T03:56:49.795141Z",
     "iopub.status.busy": "2022-09-10T03:56:49.794340Z",
     "iopub.status.idle": "2022-09-10T03:56:49.813282Z",
     "shell.execute_reply": "2022-09-10T03:56:49.811793Z"
    },
    "papermill": {
     "duration": 0.035052,
     "end_time": "2022-09-10T03:56:49.817295",
     "exception": false,
     "start_time": "2022-09-10T03:56:49.782243",
     "status": "completed"
    },
    "tags": []
   },
   "outputs": [
    {
     "data": {
      "text/html": [
       "<div>\n",
       "<style scoped>\n",
       "    .dataframe tbody tr th:only-of-type {\n",
       "        vertical-align: middle;\n",
       "    }\n",
       "\n",
       "    .dataframe tbody tr th {\n",
       "        vertical-align: top;\n",
       "    }\n",
       "\n",
       "    .dataframe thead th {\n",
       "        text-align: right;\n",
       "    }\n",
       "</style>\n",
       "<table border=\"1\" class=\"dataframe\">\n",
       "  <thead>\n",
       "    <tr style=\"text-align: right;\">\n",
       "      <th></th>\n",
       "      <th>Waktu Pesanan Dibuat</th>\n",
       "      <th>city</th>\n",
       "      <th>Jumlah Produk di Pesan</th>\n",
       "      <th>WP</th>\n",
       "      <th>Time</th>\n",
       "    </tr>\n",
       "  </thead>\n",
       "  <tbody>\n",
       "    <tr>\n",
       "      <th>0</th>\n",
       "      <td>05 April 2021</td>\n",
       "      <td>Jakarta Selatan</td>\n",
       "      <td>1</td>\n",
       "      <td>2021-04-05</td>\n",
       "      <td>0</td>\n",
       "    </tr>\n",
       "    <tr>\n",
       "      <th>1</th>\n",
       "      <td>02 April 2021</td>\n",
       "      <td>Palembang</td>\n",
       "      <td>2</td>\n",
       "      <td>2021-04-02</td>\n",
       "      <td>1</td>\n",
       "    </tr>\n",
       "    <tr>\n",
       "      <th>2</th>\n",
       "      <td>02 April 2021</td>\n",
       "      <td>Palembang</td>\n",
       "      <td>2</td>\n",
       "      <td>2021-04-02</td>\n",
       "      <td>2</td>\n",
       "    </tr>\n",
       "    <tr>\n",
       "      <th>3</th>\n",
       "      <td>06 April 2021</td>\n",
       "      <td>Surabaya</td>\n",
       "      <td>2</td>\n",
       "      <td>2021-04-06</td>\n",
       "      <td>3</td>\n",
       "    </tr>\n",
       "    <tr>\n",
       "      <th>4</th>\n",
       "      <td>06 April 2021</td>\n",
       "      <td>Surabaya</td>\n",
       "      <td>2</td>\n",
       "      <td>2021-04-06</td>\n",
       "      <td>4</td>\n",
       "    </tr>\n",
       "  </tbody>\n",
       "</table>\n",
       "</div>"
      ],
      "text/plain": [
       "  Waktu Pesanan Dibuat             city  Jumlah Produk di Pesan         WP  \\\n",
       "0        05 April 2021  Jakarta Selatan                       1 2021-04-05   \n",
       "1        02 April 2021        Palembang                       2 2021-04-02   \n",
       "2        02 April 2021        Palembang                       2 2021-04-02   \n",
       "3        06 April 2021         Surabaya                       2 2021-04-06   \n",
       "4        06 April 2021         Surabaya                       2 2021-04-06   \n",
       "\n",
       "   Time  \n",
       "0     0  \n",
       "1     1  \n",
       "2     2  \n",
       "3     3  \n",
       "4     4  "
      ]
     },
     "execution_count": 6,
     "metadata": {},
     "output_type": "execute_result"
    }
   ],
   "source": [
    "df_city['Time'] = np.arange(len(df_city['WP']))\n",
    "df_city.head()"
   ]
  },
  {
   "cell_type": "code",
   "execution_count": 7,
   "id": "4163a890",
   "metadata": {
    "execution": {
     "iopub.execute_input": "2022-09-10T03:56:49.844469Z",
     "iopub.status.busy": "2022-09-10T03:56:49.843998Z",
     "iopub.status.idle": "2022-09-10T03:56:49.861672Z",
     "shell.execute_reply": "2022-09-10T03:56:49.860653Z"
    },
    "papermill": {
     "duration": 0.035559,
     "end_time": "2022-09-10T03:56:49.864435",
     "exception": false,
     "start_time": "2022-09-10T03:56:49.828876",
     "status": "completed"
    },
    "tags": []
   },
   "outputs": [
    {
     "data": {
      "text/html": [
       "<div>\n",
       "<style scoped>\n",
       "    .dataframe tbody tr th:only-of-type {\n",
       "        vertical-align: middle;\n",
       "    }\n",
       "\n",
       "    .dataframe tbody tr th {\n",
       "        vertical-align: top;\n",
       "    }\n",
       "\n",
       "    .dataframe thead th {\n",
       "        text-align: right;\n",
       "    }\n",
       "</style>\n",
       "<table border=\"1\" class=\"dataframe\">\n",
       "  <thead>\n",
       "    <tr style=\"text-align: right;\">\n",
       "      <th></th>\n",
       "      <th>Waktu Pesanan Dibuat</th>\n",
       "      <th>city</th>\n",
       "      <th>Jumlah Produk di Pesan</th>\n",
       "      <th>WP</th>\n",
       "      <th>Time</th>\n",
       "      <th>Lag_1</th>\n",
       "    </tr>\n",
       "  </thead>\n",
       "  <tbody>\n",
       "    <tr>\n",
       "      <th>0</th>\n",
       "      <td>05 April 2021</td>\n",
       "      <td>Jakarta Selatan</td>\n",
       "      <td>1</td>\n",
       "      <td>2021-04-05</td>\n",
       "      <td>0</td>\n",
       "      <td>NaN</td>\n",
       "    </tr>\n",
       "    <tr>\n",
       "      <th>1</th>\n",
       "      <td>02 April 2021</td>\n",
       "      <td>Palembang</td>\n",
       "      <td>2</td>\n",
       "      <td>2021-04-02</td>\n",
       "      <td>1</td>\n",
       "      <td>1.0</td>\n",
       "    </tr>\n",
       "    <tr>\n",
       "      <th>2</th>\n",
       "      <td>02 April 2021</td>\n",
       "      <td>Palembang</td>\n",
       "      <td>2</td>\n",
       "      <td>2021-04-02</td>\n",
       "      <td>2</td>\n",
       "      <td>2.0</td>\n",
       "    </tr>\n",
       "    <tr>\n",
       "      <th>3</th>\n",
       "      <td>06 April 2021</td>\n",
       "      <td>Surabaya</td>\n",
       "      <td>2</td>\n",
       "      <td>2021-04-06</td>\n",
       "      <td>3</td>\n",
       "      <td>2.0</td>\n",
       "    </tr>\n",
       "    <tr>\n",
       "      <th>4</th>\n",
       "      <td>06 April 2021</td>\n",
       "      <td>Surabaya</td>\n",
       "      <td>2</td>\n",
       "      <td>2021-04-06</td>\n",
       "      <td>4</td>\n",
       "      <td>2.0</td>\n",
       "    </tr>\n",
       "  </tbody>\n",
       "</table>\n",
       "</div>"
      ],
      "text/plain": [
       "  Waktu Pesanan Dibuat             city  Jumlah Produk di Pesan         WP  \\\n",
       "0        05 April 2021  Jakarta Selatan                       1 2021-04-05   \n",
       "1        02 April 2021        Palembang                       2 2021-04-02   \n",
       "2        02 April 2021        Palembang                       2 2021-04-02   \n",
       "3        06 April 2021         Surabaya                       2 2021-04-06   \n",
       "4        06 April 2021         Surabaya                       2 2021-04-06   \n",
       "\n",
       "   Time  Lag_1  \n",
       "0     0    NaN  \n",
       "1     1    1.0  \n",
       "2     2    2.0  \n",
       "3     3    2.0  \n",
       "4     4    2.0  "
      ]
     },
     "execution_count": 7,
     "metadata": {},
     "output_type": "execute_result"
    }
   ],
   "source": [
    "df_city['Lag_1'] = df_city['Jumlah Produk di Pesan'].shift(1)\n",
    "df_city.head()"
   ]
  },
  {
   "cell_type": "code",
   "execution_count": 8,
   "id": "dff94b02",
   "metadata": {
    "execution": {
     "iopub.execute_input": "2022-09-10T03:56:49.895651Z",
     "iopub.status.busy": "2022-09-10T03:56:49.891558Z",
     "iopub.status.idle": "2022-09-10T03:56:49.919956Z",
     "shell.execute_reply": "2022-09-10T03:56:49.918852Z"
    },
    "papermill": {
     "duration": 0.045625,
     "end_time": "2022-09-10T03:56:49.922688",
     "exception": false,
     "start_time": "2022-09-10T03:56:49.877063",
     "status": "completed"
    },
    "tags": []
   },
   "outputs": [
    {
     "data": {
      "text/html": [
       "<div>\n",
       "<style scoped>\n",
       "    .dataframe tbody tr th:only-of-type {\n",
       "        vertical-align: middle;\n",
       "    }\n",
       "\n",
       "    .dataframe tbody tr th {\n",
       "        vertical-align: top;\n",
       "    }\n",
       "\n",
       "    .dataframe thead th {\n",
       "        text-align: right;\n",
       "    }\n",
       "</style>\n",
       "<table border=\"1\" class=\"dataframe\">\n",
       "  <thead>\n",
       "    <tr style=\"text-align: right;\">\n",
       "      <th></th>\n",
       "      <th>city</th>\n",
       "      <th>Jumlah Produk di Pesan</th>\n",
       "      <th>WP</th>\n",
       "      <th>Time</th>\n",
       "      <th>Lag_1</th>\n",
       "    </tr>\n",
       "  </thead>\n",
       "  <tbody>\n",
       "    <tr>\n",
       "      <th>0</th>\n",
       "      <td>Jakarta Selatan</td>\n",
       "      <td>1</td>\n",
       "      <td>2021-04-05</td>\n",
       "      <td>0</td>\n",
       "      <td>NaN</td>\n",
       "    </tr>\n",
       "    <tr>\n",
       "      <th>1</th>\n",
       "      <td>Palembang</td>\n",
       "      <td>2</td>\n",
       "      <td>2021-04-02</td>\n",
       "      <td>1</td>\n",
       "      <td>1.0</td>\n",
       "    </tr>\n",
       "    <tr>\n",
       "      <th>2</th>\n",
       "      <td>Palembang</td>\n",
       "      <td>2</td>\n",
       "      <td>2021-04-02</td>\n",
       "      <td>2</td>\n",
       "      <td>2.0</td>\n",
       "    </tr>\n",
       "    <tr>\n",
       "      <th>3</th>\n",
       "      <td>Surabaya</td>\n",
       "      <td>2</td>\n",
       "      <td>2021-04-06</td>\n",
       "      <td>3</td>\n",
       "      <td>2.0</td>\n",
       "    </tr>\n",
       "    <tr>\n",
       "      <th>4</th>\n",
       "      <td>Surabaya</td>\n",
       "      <td>2</td>\n",
       "      <td>2021-04-06</td>\n",
       "      <td>4</td>\n",
       "      <td>2.0</td>\n",
       "    </tr>\n",
       "  </tbody>\n",
       "</table>\n",
       "</div>"
      ],
      "text/plain": [
       "              city  Jumlah Produk di Pesan         WP  Time  Lag_1\n",
       "0  Jakarta Selatan                       1 2021-04-05     0    NaN\n",
       "1        Palembang                       2 2021-04-02     1    1.0\n",
       "2        Palembang                       2 2021-04-02     2    2.0\n",
       "3         Surabaya                       2 2021-04-06     3    2.0\n",
       "4         Surabaya                       2 2021-04-06     4    2.0"
      ]
     },
     "execution_count": 8,
     "metadata": {},
     "output_type": "execute_result"
    }
   ],
   "source": [
    "df_city = df_city.drop(['Waktu Pesanan Dibuat'], axis=1)\n",
    "df_city.head()"
   ]
  },
  {
   "cell_type": "code",
   "execution_count": 9,
   "id": "54a9c8b7",
   "metadata": {
    "execution": {
     "iopub.execute_input": "2022-09-10T03:56:49.943021Z",
     "iopub.status.busy": "2022-09-10T03:56:49.942117Z",
     "iopub.status.idle": "2022-09-10T03:56:49.959953Z",
     "shell.execute_reply": "2022-09-10T03:56:49.958889Z"
    },
    "papermill": {
     "duration": 0.031143,
     "end_time": "2022-09-10T03:56:49.962676",
     "exception": false,
     "start_time": "2022-09-10T03:56:49.931533",
     "status": "completed"
    },
    "tags": []
   },
   "outputs": [
    {
     "data": {
      "text/html": [
       "<div>\n",
       "<style scoped>\n",
       "    .dataframe tbody tr th:only-of-type {\n",
       "        vertical-align: middle;\n",
       "    }\n",
       "\n",
       "    .dataframe tbody tr th {\n",
       "        vertical-align: top;\n",
       "    }\n",
       "\n",
       "    .dataframe thead th {\n",
       "        text-align: right;\n",
       "    }\n",
       "</style>\n",
       "<table border=\"1\" class=\"dataframe\">\n",
       "  <thead>\n",
       "    <tr style=\"text-align: right;\">\n",
       "      <th></th>\n",
       "      <th></th>\n",
       "      <th>Jumlah Produk di Pesan</th>\n",
       "      <th>Time</th>\n",
       "      <th>Lag_1</th>\n",
       "    </tr>\n",
       "    <tr>\n",
       "      <th>WP</th>\n",
       "      <th>city</th>\n",
       "      <th></th>\n",
       "      <th></th>\n",
       "      <th></th>\n",
       "    </tr>\n",
       "  </thead>\n",
       "  <tbody>\n",
       "    <tr>\n",
       "      <th>2021-04-05</th>\n",
       "      <th>Jakarta Selatan</th>\n",
       "      <td>1</td>\n",
       "      <td>0</td>\n",
       "      <td>NaN</td>\n",
       "    </tr>\n",
       "    <tr>\n",
       "      <th rowspan=\"2\" valign=\"top\">2021-04-02</th>\n",
       "      <th>Palembang</th>\n",
       "      <td>2</td>\n",
       "      <td>1</td>\n",
       "      <td>1.0</td>\n",
       "    </tr>\n",
       "    <tr>\n",
       "      <th>Palembang</th>\n",
       "      <td>2</td>\n",
       "      <td>2</td>\n",
       "      <td>2.0</td>\n",
       "    </tr>\n",
       "    <tr>\n",
       "      <th rowspan=\"2\" valign=\"top\">2021-04-06</th>\n",
       "      <th>Surabaya</th>\n",
       "      <td>2</td>\n",
       "      <td>3</td>\n",
       "      <td>2.0</td>\n",
       "    </tr>\n",
       "    <tr>\n",
       "      <th>Surabaya</th>\n",
       "      <td>2</td>\n",
       "      <td>4</td>\n",
       "      <td>2.0</td>\n",
       "    </tr>\n",
       "  </tbody>\n",
       "</table>\n",
       "</div>"
      ],
      "text/plain": [
       "                            Jumlah Produk di Pesan  Time  Lag_1\n",
       "WP         city                                                \n",
       "2021-04-05 Jakarta Selatan                       1     0    NaN\n",
       "2021-04-02 Palembang                             2     1    1.0\n",
       "           Palembang                             2     2    2.0\n",
       "2021-04-06 Surabaya                              2     3    2.0\n",
       "           Surabaya                              2     4    2.0"
      ]
     },
     "execution_count": 9,
     "metadata": {},
     "output_type": "execute_result"
    }
   ],
   "source": [
    "df_city = df_city.set_index(['WP', 'city'])\n",
    "df_city.head()"
   ]
  },
  {
   "cell_type": "code",
   "execution_count": 10,
   "id": "deab5654",
   "metadata": {
    "execution": {
     "iopub.execute_input": "2022-09-10T03:56:49.987966Z",
     "iopub.status.busy": "2022-09-10T03:56:49.986836Z",
     "iopub.status.idle": "2022-09-10T03:56:49.993342Z",
     "shell.execute_reply": "2022-09-10T03:56:49.992189Z"
    },
    "papermill": {
     "duration": 0.02009,
     "end_time": "2022-09-10T03:56:49.995847",
     "exception": false,
     "start_time": "2022-09-10T03:56:49.975757",
     "status": "completed"
    },
    "tags": []
   },
   "outputs": [],
   "source": [
    "df_city = df_city.rename(columns={'Jumlah Produk di Pesan':'JP'})"
   ]
  },
  {
   "cell_type": "code",
   "execution_count": 11,
   "id": "83607c21",
   "metadata": {
    "execution": {
     "iopub.execute_input": "2022-09-10T03:56:50.015769Z",
     "iopub.status.busy": "2022-09-10T03:56:50.015341Z",
     "iopub.status.idle": "2022-09-10T03:56:50.022931Z",
     "shell.execute_reply": "2022-09-10T03:56:50.021643Z"
    },
    "papermill": {
     "duration": 0.020233,
     "end_time": "2022-09-10T03:56:50.025602",
     "exception": false,
     "start_time": "2022-09-10T03:56:50.005369",
     "status": "completed"
    },
    "tags": []
   },
   "outputs": [
    {
     "name": "stdout",
     "output_type": "stream",
     "text": [
      "df_city shape: \n",
      " (32, 3)\n",
      "dy_city dtype: \n",
      " JP         int64\n",
      "Time       int64\n",
      "Lag_1    float64\n",
      "dtype: object\n"
     ]
    }
   ],
   "source": [
    "print('df_city shape: \\n', df_city.shape)\n",
    "print('dy_city dtype: \\n', df_city.dtypes)"
   ]
  },
  {
   "cell_type": "code",
   "execution_count": 12,
   "id": "eac1db4e",
   "metadata": {
    "execution": {
     "iopub.execute_input": "2022-09-10T03:56:50.050705Z",
     "iopub.status.busy": "2022-09-10T03:56:50.050060Z",
     "iopub.status.idle": "2022-09-10T03:56:50.353022Z",
     "shell.execute_reply": "2022-09-10T03:56:50.352060Z"
    },
    "papermill": {
     "duration": 0.319721,
     "end_time": "2022-09-10T03:56:50.355270",
     "exception": false,
     "start_time": "2022-09-10T03:56:50.035549",
     "status": "completed"
    },
    "tags": []
   },
   "outputs": [
    {
     "data": {
      "image/png": "[encoded data removed]",
      "text/plain": [
       "<Figure size 432x288 with 1 Axes>"
      ]
     },
     "metadata": {
      "needs_background": "light"
     },
     "output_type": "display_data"
    }
   ],
   "source": [
    "# plt.figure(figsize=(10,6))\n",
    "\n",
    "fig, ax = plt.subplots()\n",
    "ax.plot('Time', 'JP', data=df_city, color='0.75')\n",
    "ax = sns.regplot(x='Time', y='JP', data=df_city, ci=None, scatter_kws=dict(color='0.25'))\n",
    "plt.title('Plot Periodik Jumlah Produk di Pesan');"
   ]
  },
  {
   "cell_type": "code",
   "execution_count": 13,
   "id": "dc367de4",
   "metadata": {
    "execution": {
     "iopub.execute_input": "2022-09-10T03:56:50.376603Z",
     "iopub.status.busy": "2022-09-10T03:56:50.376042Z",
     "iopub.status.idle": "2022-09-10T03:56:50.642223Z",
     "shell.execute_reply": "2022-09-10T03:56:50.641035Z"
    },
    "papermill": {
     "duration": 0.280067,
     "end_time": "2022-09-10T03:56:50.645059",
     "exception": false,
     "start_time": "2022-09-10T03:56:50.364992",
     "status": "completed"
    },
    "tags": []
   },
   "outputs": [],
   "source": [
    "from sklearn.linear_model import LinearRegression\n",
    "from sklearn.model_selection import train_test_split\n",
    "from sklearn.metrics import mean_absolute_error, r2_score "
   ]
  },
  {
   "cell_type": "code",
   "execution_count": 14,
   "id": "49afb94b",
   "metadata": {
    "execution": {
     "iopub.execute_input": "2022-09-10T03:56:50.666380Z",
     "iopub.status.busy": "2022-09-10T03:56:50.665652Z",
     "iopub.status.idle": "2022-09-10T03:56:50.691672Z",
     "shell.execute_reply": "2022-09-10T03:56:50.690764Z"
    },
    "papermill": {
     "duration": 0.039893,
     "end_time": "2022-09-10T03:56:50.694543",
     "exception": false,
     "start_time": "2022-09-10T03:56:50.654650",
     "status": "completed"
    },
    "tags": []
   },
   "outputs": [],
   "source": [
    "# training data\n",
    "X = df_city.loc[:,['Time']]  # features\n",
    "y = df_city.loc[:, 'JP']  # target\n",
    "\n",
    "# Train the model\n",
    "model = LinearRegression()\n",
    "model.fit(X, y)\n",
    "\n",
    "# Store the fitted values as a time series with the same time index as\n",
    "y_pred = pd.Series(model.predict(X), index=X.index)"
   ]
  },
  {
   "cell_type": "code",
   "execution_count": 15,
   "id": "78bbb81d",
   "metadata": {
    "execution": {
     "iopub.execute_input": "2022-09-10T03:56:50.715393Z",
     "iopub.status.busy": "2022-09-10T03:56:50.714703Z",
     "iopub.status.idle": "2022-09-10T03:56:50.723161Z",
     "shell.execute_reply": "2022-09-10T03:56:50.722221Z"
    },
    "papermill": {
     "duration": 0.022226,
     "end_time": "2022-09-10T03:56:50.726188",
     "exception": false,
     "start_time": "2022-09-10T03:56:50.703962",
     "status": "completed"
    },
    "tags": []
   },
   "outputs": [
    {
     "data": {
      "text/plain": [
       "'\\n\\nfound the predictive value with linear regression:\\n\\ny_pred = a + bX\\ny_pred = intercept + coef.X\\n\\n'"
      ]
     },
     "execution_count": 15,
     "metadata": {},
     "output_type": "execute_result"
    }
   ],
   "source": [
    "\"\"\"\n",
    "\n",
    "found the predictive value with linear regression:\n",
    "\n",
    "y_pred = a + bX\n",
    "y_pred = intercept + coef.X\n",
    "\n",
    "\"\"\""
   ]
  },
  {
   "cell_type": "code",
   "execution_count": 16,
   "id": "86d8df91",
   "metadata": {
    "execution": {
     "iopub.execute_input": "2022-09-10T03:56:50.747742Z",
     "iopub.status.busy": "2022-09-10T03:56:50.746436Z",
     "iopub.status.idle": "2022-09-10T03:56:50.753308Z",
     "shell.execute_reply": "2022-09-10T03:56:50.752595Z"
    },
    "papermill": {
     "duration": 0.019517,
     "end_time": "2022-09-10T03:56:50.755386",
     "exception": false,
     "start_time": "2022-09-10T03:56:50.735869",
     "status": "completed"
    },
    "tags": []
   },
   "outputs": [],
   "source": [
    "X_train, y_train, X_test, y_test = train_test_split(X, y, random_state=0, test_size=0.2)"
   ]
  },
  {
   "cell_type": "code",
   "execution_count": 17,
   "id": "771b34c5",
   "metadata": {
    "execution": {
     "iopub.execute_input": "2022-09-10T03:56:50.777243Z",
     "iopub.status.busy": "2022-09-10T03:56:50.776247Z",
     "iopub.status.idle": "2022-09-10T03:56:50.785038Z",
     "shell.execute_reply": "2022-09-10T03:56:50.784196Z"
    },
    "papermill": {
     "duration": 0.022114,
     "end_time": "2022-09-10T03:56:50.787311",
     "exception": false,
     "start_time": "2022-09-10T03:56:50.765197",
     "status": "completed"
    },
    "tags": []
   },
   "outputs": [
    {
     "data": {
      "text/plain": [
       "0.018002972002682638"
      ]
     },
     "execution_count": 17,
     "metadata": {},
     "output_type": "execute_result"
    }
   ],
   "source": [
    "model.score(X,y)"
   ]
  },
  {
   "cell_type": "code",
   "execution_count": 18,
   "id": "639aaa02",
   "metadata": {
    "execution": {
     "iopub.execute_input": "2022-09-10T03:56:50.808562Z",
     "iopub.status.busy": "2022-09-10T03:56:50.807656Z",
     "iopub.status.idle": "2022-09-10T03:56:50.814617Z",
     "shell.execute_reply": "2022-09-10T03:56:50.813528Z"
    },
    "papermill": {
     "duration": 0.019834,
     "end_time": "2022-09-10T03:56:50.816846",
     "exception": false,
     "start_time": "2022-09-10T03:56:50.797012",
     "status": "completed"
    },
    "tags": []
   },
   "outputs": [
    {
     "data": {
      "text/plain": [
       "2.272727272727273"
      ]
     },
     "execution_count": 18,
     "metadata": {},
     "output_type": "execute_result"
    }
   ],
   "source": [
    "model.intercept_"
   ]
  },
  {
   "cell_type": "code",
   "execution_count": 19,
   "id": "6bc19f66",
   "metadata": {
    "execution": {
     "iopub.execute_input": "2022-09-10T03:56:50.837788Z",
     "iopub.status.busy": "2022-09-10T03:56:50.837124Z",
     "iopub.status.idle": "2022-09-10T03:56:50.843916Z",
     "shell.execute_reply": "2022-09-10T03:56:50.843074Z"
    },
    "papermill": {
     "duration": 0.019662,
     "end_time": "2022-09-10T03:56:50.845958",
     "exception": false,
     "start_time": "2022-09-10T03:56:50.826296",
     "status": "completed"
    },
    "tags": []
   },
   "outputs": [
    {
     "data": {
      "text/plain": [
       "array([-0.01356305])"
      ]
     },
     "execution_count": 19,
     "metadata": {},
     "output_type": "execute_result"
    }
   ],
   "source": [
    "model.coef_"
   ]
  },
  {
   "cell_type": "code",
   "execution_count": 20,
   "id": "a07f3fc3",
   "metadata": {
    "execution": {
     "iopub.execute_input": "2022-09-10T03:56:50.867111Z",
     "iopub.status.busy": "2022-09-10T03:56:50.866445Z",
     "iopub.status.idle": "2022-09-10T03:56:50.874748Z",
     "shell.execute_reply": "2022-09-10T03:56:50.873335Z"
    },
    "papermill": {
     "duration": 0.021454,
     "end_time": "2022-09-10T03:56:50.877136",
     "exception": false,
     "start_time": "2022-09-10T03:56:50.855682",
     "status": "completed"
    },
    "tags": []
   },
   "outputs": [
    {
     "name": "stdout",
     "output_type": "stream",
     "text": [
      "mae:  0.6777401026392962\n",
      "r2_score:  0.018002972002682638\n"
     ]
    }
   ],
   "source": [
    "print('mae: ', mean_absolute_error(y,y_pred))\n",
    "\n",
    "print('r2_score: ', r2_score(y, y_pred))"
   ]
  },
  {
   "cell_type": "code",
   "execution_count": 21,
   "id": "6bbfc85c",
   "metadata": {
    "execution": {
     "iopub.execute_input": "2022-09-10T03:56:50.898503Z",
     "iopub.status.busy": "2022-09-10T03:56:50.897563Z",
     "iopub.status.idle": "2022-09-10T03:56:51.270798Z",
     "shell.execute_reply": "2022-09-10T03:56:51.269647Z"
    },
    "papermill": {
     "duration": 0.38674,
     "end_time": "2022-09-10T03:56:51.273406",
     "exception": false,
     "start_time": "2022-09-10T03:56:50.886666",
     "status": "completed"
    },
    "tags": []
   },
   "outputs": [
    {
     "data": {
      "text/plain": [
       "Text(0.5, 1.0, 'Grafik hasil regresi (y_pred)')"
      ]
     },
     "execution_count": 21,
     "metadata": {},
     "output_type": "execute_result"
    },
    {
     "data": {
      "image/png": "[encoded data removed]",
      "text/plain": [
       "<Figure size 720x576 with 1 Axes>"
      ]
     },
     "metadata": {
      "needs_background": "light"
     },
     "output_type": "display_data"
    }
   ],
   "source": [
    "plt.figure(figsize=(10,8))\n",
    "ax = sns.regplot(x=X, y=y, x_bins=4)\n",
    "plt.title('Grafik hasil regresi (y_pred)')"
   ]
  },
  {
   "cell_type": "code",
   "execution_count": 22,
   "id": "e910fa66",
   "metadata": {
    "execution": {
     "iopub.execute_input": "2022-09-10T03:56:51.295626Z",
     "iopub.status.busy": "2022-09-10T03:56:51.295214Z",
     "iopub.status.idle": "2022-09-10T03:56:51.319738Z",
     "shell.execute_reply": "2022-09-10T03:56:51.318375Z"
    },
    "papermill": {
     "duration": 0.03867,
     "end_time": "2022-09-10T03:56:51.322527",
     "exception": false,
     "start_time": "2022-09-10T03:56:51.283857",
     "status": "completed"
    },
    "tags": []
   },
   "outputs": [
    {
     "data": {
      "text/plain": [
       "LinearRegression()"
      ]
     },
     "execution_count": 22,
     "metadata": {},
     "output_type": "execute_result"
    }
   ],
   "source": [
    "Xi = df_city.loc[:, ['Lag_1']].dropna()  # features\n",
    "yi = df_city.loc[:, 'JP']  # target\n",
    "yi, Xi = yi.align(Xi, join='inner')  # drop corresponding values in target\n",
    "\n",
    "# YOUR CODE HERE: Create a LinearRegression instance and fit it to X and y.\n",
    "model_i = LinearRegression()\n",
    "\n",
    "# YOUR CODE HERE: Create Store the fitted values as a time series with\n",
    "# the same time index as the training data\n",
    "model_i.fit(Xi,yi)# y_pred = pd.Series(model.predict(Xi), index=Xi.index)"
   ]
  },
  {
   "cell_type": "code",
   "execution_count": 23,
   "id": "5a04fdd0",
   "metadata": {
    "execution": {
     "iopub.execute_input": "2022-09-10T03:56:51.345645Z",
     "iopub.status.busy": "2022-09-10T03:56:51.345192Z",
     "iopub.status.idle": "2022-09-10T03:56:51.351474Z",
     "shell.execute_reply": "2022-09-10T03:56:51.350647Z"
    },
    "papermill": {
     "duration": 0.022447,
     "end_time": "2022-09-10T03:56:51.356060",
     "exception": false,
     "start_time": "2022-09-10T03:56:51.333613",
     "status": "completed"
    },
    "tags": []
   },
   "outputs": [
    {
     "name": "stdout",
     "output_type": "stream",
     "text": [
      "intercept:  1.3579418344519014\n",
      "slope:  [0.49217002]\n"
     ]
    }
   ],
   "source": [
    "print('intercept: ', model_i.intercept_)\n",
    "print('slope: ', model_i.coef_)"
   ]
  },
  {
   "cell_type": "code",
   "execution_count": 24,
   "id": "f44738ec",
   "metadata": {
    "execution": {
     "iopub.execute_input": "2022-09-10T03:56:51.384071Z",
     "iopub.status.busy": "2022-09-10T03:56:51.383031Z",
     "iopub.status.idle": "2022-09-10T03:56:51.390974Z",
     "shell.execute_reply": "2022-09-10T03:56:51.389006Z"
    },
    "papermill": {
     "duration": 0.024862,
     "end_time": "2022-09-10T03:56:51.393845",
     "exception": false,
     "start_time": "2022-09-10T03:56:51.368983",
     "status": "completed"
    },
    "tags": []
   },
   "outputs": [],
   "source": [
    "yi_pred = pd.Series(model_i.predict(Xi), index=Xi.index)"
   ]
  },
  {
   "cell_type": "code",
   "execution_count": 25,
   "id": "c65986f8",
   "metadata": {
    "execution": {
     "iopub.execute_input": "2022-09-10T03:56:51.424109Z",
     "iopub.status.busy": "2022-09-10T03:56:51.423623Z",
     "iopub.status.idle": "2022-09-10T03:56:51.433827Z",
     "shell.execute_reply": "2022-09-10T03:56:51.432393Z"
    },
    "papermill": {
     "duration": 0.027117,
     "end_time": "2022-09-10T03:56:51.437637",
     "exception": false,
     "start_time": "2022-09-10T03:56:51.410520",
     "status": "completed"
    },
    "tags": []
   },
   "outputs": [
    {
     "name": "stdout",
     "output_type": "stream",
     "text": [
      "mea:  0.6302888824044353\n",
      "r2_square:  0.2726246032438949\n"
     ]
    }
   ],
   "source": [
    "print('mea: ', mean_absolute_error(yi ,yi_pred))\n",
    "print('r2_square: ', r2_score(yi, yi_pred))"
   ]
  },
  {
   "cell_type": "code",
   "execution_count": 26,
   "id": "98cdfccf",
   "metadata": {
    "execution": {
     "iopub.execute_input": "2022-09-10T03:56:51.465705Z",
     "iopub.status.busy": "2022-09-10T03:56:51.465268Z",
     "iopub.status.idle": "2022-09-10T03:56:51.890951Z",
     "shell.execute_reply": "2022-09-10T03:56:51.889637Z"
    },
    "papermill": {
     "duration": 0.440437,
     "end_time": "2022-09-10T03:56:51.893652",
     "exception": false,
     "start_time": "2022-09-10T03:56:51.453215",
     "status": "completed"
    },
    "tags": []
   },
   "outputs": [
    {
     "data": {
      "text/plain": [
       "Text(0.5, 1.0, 'Regression Graphic (yi_pred)')"
      ]
     },
     "execution_count": 26,
     "metadata": {},
     "output_type": "execute_result"
    },
    {
     "data": {
      "image/png": "[encoded data removed]",
      "text/plain": [
       "<Figure size 720x576 with 1 Axes>"
      ]
     },
     "metadata": {
      "needs_background": "light"
     },
     "output_type": "display_data"
    }
   ],
   "source": [
    "# prediction graph based on variable Lag_1\n",
    "\n",
    "plt.figure(figsize=(10,8))\n",
    "ax = sns.regplot(x=Xi, y=yi, x_bins=4)\n",
    "plt.title('Regression Graphic (yi_pred)')"
   ]
  }
 ],
 "metadata": {
  "kernelspec": {
   "display_name": "Python 3",
   "language": "python",
   "name": "python3"
  },
  "language_info": {
   "codemirror_mode": {
    "name": "ipython",
    "version": 3
   },
   "file_extension": ".py",
   "mimetype": "text/x-python",
   "name": "python",
   "nbconvert_exporter": "python",
   "pygments_lexer": "ipython3",
   "version": "3.7.12"
  },
  "papermill": {
   "default_parameters": {},
   "duration": 13.216988,
   "end_time": "2022-09-10T03:56:52.627289",
   "environment_variables": {},
   "exception": null,
   "input_path": "__notebook__.ipynb",
   "output_path": "__notebook__.ipynb",
   "parameters": {},
   "start_time": "2022-09-10T03:56:39.410301",
   "version": "2.3.4"
  }
 },
 "nbformat": 4,
 "nbformat_minor": 5
}
